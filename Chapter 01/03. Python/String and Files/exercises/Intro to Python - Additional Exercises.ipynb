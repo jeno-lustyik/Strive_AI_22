{
 "cells": [
  {
   "cell_type": "markdown",
   "metadata": {},
   "source": [
    "**Exercise 2.2 (optional):** Write code that classifies a given amount of money (which you store in a variable `amount`), specified in cents, as greater monetary units. Your code lists the monetary equivalent in dollars (100 ct), quarters (25 ct), dimes (10 ct), nickels (5 ct), and pennies (1 ct). Your program should report the maximum number of dollars that fit in the amount, then the maximum number of quarters that fit in the remainder after you subtract the dollars, then the maximum number of dimes that fit in the remainder after you subtract the dollars and quarters, and so on for nickels and pennies. The result is that you express the amount as the minimum number of coins needed.  \n",
    "\n",
    "**Can you do it again? Would you change anything from the last time you had to do this?**"
   ]
  },
  {
   "cell_type": "code",
   "execution_count": 4,
   "metadata": {},
   "outputs": [
    {
     "name": "stdout",
     "output_type": "stream",
     "text": [
      "This amount of money equals  694  dollars,  27  quarters,  2  dimes,  0 nickels and  0 pennies.\n"
     ]
    }
   ],
   "source": [
    "# Your Code Here\n",
    "amount = 69420\n",
    "def change(amount):\n",
    "    amount //= 100\n",
    "    d = amount\n",
    "    amount //= 25\n",
    "    q = amount\n",
    "    amount //= 10\n",
    "    m = amount\n",
    "    amount //= 5\n",
    "    n = amount\n",
    "    amount //= 1\n",
    "    p = amount\n",
    "    print(\"This amount of money equals \", d, \" dollars, \", q, \" quarters, \", m, \" dimes, \", n, \"nickels and \", p, \"pennies.\")\n",
    "    return\n",
    "change(amount)"
   ]
  },
  {
   "cell_type": "markdown",
   "metadata": {},
   "source": [
    "**Exercise (optional)**: The factorial of a positive integer is that integer, multiplied by all positive integers that are lower (excluding zero). You write the factorial as the number with an exclamation mark after it. E.g., the factorial of 5 is `5! = 5 * 4 * 3 * 2 * 1 = 120`. Write a function that calculates the factorial of its (integer) parameter. Test your function for different parameter values, but do not use very large numbers as factorials grow exponentially. Hint: to do this with a `while` loop, you need at least one more variable."
   ]
  },
  {
   "cell_type": "code",
   "execution_count": 7,
   "metadata": {},
   "outputs": [
    {
     "name": "stdout",
     "output_type": "stream",
     "text": [
      "479001600\n",
      "None\n"
     ]
    }
   ],
   "source": [
    "# Factorial\n",
    "def factorial(number):                                \n",
    "    for i in range(number-1, 0, -1):\n",
    "        number *= i\n",
    "    print(number)\n",
    "    return\n",
    "    #Your Code Here\n",
    "\n",
    "print(factorial(12))"
   ]
  },
  {
   "cell_type": "markdown",
   "metadata": {},
   "source": [
    "**Exercise 5.1 (optional):** Write a function that prints a multiplication table for digits 1 to 10. A multiplication table for the numbers 1 to `num = 3` looks as follows:\n",
    "\n",
    "`. |  1  2  3`<br>\n",
    "`------------`<br>\n",
    "`1 |  1  2  3`<br>\n",
    "`2 |  2  4  6`<br>\n",
    "`3 |  3  6  9`\n",
    "\n",
    "So the labels on the rows are multiplied by the labels on the columns, and the result is shown in the cell that is on that row/column combination. "
   ]
  },
  {
   "cell_type": "code",
   "execution_count": 48,
   "metadata": {},
   "outputs": [
    {
     "name": "stdout",
     "output_type": "stream",
     "text": [
      ". | 1 2 3 4\n",
      "----------------\n",
      "1 | 1 2 3 4\n",
      "2 | 2 4 6 8\n",
      "3 | 3 6 9 12\n",
      "4 | 4 8 12 16\n"
     ]
    }
   ],
   "source": [
    "# Print multiplication table\n",
    "def print_multiplication_table(n):\n",
    "    #Your Code Here\n",
    "    print(\". |\", end=\" \")\n",
    "    for i in range(1, n+1, 1):\n",
    "        if i == n:\n",
    "            print(f\"{i}\", end='\\n')\n",
    "        else:\n",
    "            print(f\"{i}\", end=' ')\n",
    "    print(\"----\" * n)\n",
    "    for b in range(1, n+1, 1):\n",
    "        print(f\"{b} |\", end=' ')\n",
    "        for m in range(1, n+1, 1):\n",
    "            if m == n:\n",
    "                print(f\"{b*m}\", end='\\n')\n",
    "            else:\n",
    "                print(f\"{b*m}\", end=' ')\n",
    "        \n",
    "print_multiplication_table(4)"
   ]
  },
  {
   "cell_type": "markdown",
   "metadata": {},
   "source": [
    "**Exercise 5.2 (optional):** If you did the previous exercise with a `while` loop, then do it again with a `for` loop. If you did it with a `for` loop, then do it again with a `while` loop. If you did not use a loop at all, you should be ashamed of yourself."
   ]
  },
  {
   "cell_type": "code",
   "execution_count": 28,
   "metadata": {},
   "outputs": [
    {
     "name": "stdout",
     "output_type": "stream",
     "text": [
      ". | 1 2 3 4 5\n",
      "--------------------\n",
      "1 | 1 2 3 4 5\n",
      "2 | 2 4 6 8 10\n",
      "3 | 3 6 9 12 15\n",
      "4 | 4 8 12 16 20\n",
      "5 | 5 10 15 20 25\n"
     ]
    }
   ],
   "source": [
    "# Print multiplication table\n",
    "def print_multiplication_table(n):\n",
    "    #Your Code Here\n",
    "    print(\". |\", end=\" \")\n",
    "    i = 1\n",
    "    b = 1\n",
    "    while i <= n:\n",
    "        if i == n:\n",
    "            print(f\"{i}\", end='\\n')\n",
    "            i += 1\n",
    "        else:\n",
    "            print(f\"{i}\", end=' ')\n",
    "            i += 1\n",
    "    print(\"----\" * n)\n",
    "    while b <= n:\n",
    "        print(f\"{b} |\", end=' ')\n",
    "        m = 1\n",
    "        while m <= n:\n",
    "            if m == n:\n",
    "                print(f\"{b*m}\", end='\\n')\n",
    "                m += 1\n",
    "            else:\n",
    "                print(f\"{b*m}\", end=' ')\n",
    "                m += 1\n",
    "        b += 1\n",
    "    return\n",
    "\n",
    "print_multiplication_table(5)"
   ]
  },
  {
   "cell_type": "markdown",
   "metadata": {},
   "source": [
    "**Exercise 6.5 (optional):** Typical autocorrect functions are the following: \n",
    "1. if a word starts with two capitals, followed by a lower-case letter, the second capital is made lower case; \n",
    "2. if a sentence contains a word that is immediately followed by the same word, the second occurrence is removed; \n",
    "3. if a sentence starts with a lower-case letter, that letter is turned into a capital; \n",
    "4. if a word consists entirely of capitals, except for the first letter which is lower case, then the case of the letters in the word is reversed; and \n",
    "5. if the sentence contains the name of a day (in English) which does not start with a capital, the first letter is turned into a capital. \n",
    "\n",
    "Write a program that takes a sentence and makes these auto-corrections."
   ]
  },
  {
   "cell_type": "code",
   "execution_count": 41,
   "metadata": {},
   "outputs": [
    {
     "name": "stdout",
     "output_type": "stream",
     "text": [
      "As it turned out our chance meeting with Reverend Arthur Belling was to change our whole way of life, and every Sunday we'd hurry along to St Loony up the Cream Bun and Jam.\n"
     ]
    }
   ],
   "source": [
    "# Autocorrect.\n",
    "\n",
    "def autocorrect(sentence):\n",
    "    sentence = sentence.split()\n",
    "    days = ['monday', 'tuesday', 'wednesday', 'thursday', 'friday', 'saturday', 'sunday']\n",
    "    for i in sentence:\n",
    "        #word starts with two capitals, and the third is lower case\n",
    "        if 'A' <= (i[0] and i[1]) <= 'Z' and 'a' <= i[2] <= 'z':\n",
    "            n = sentence.index(i)\n",
    "            i = i[0] + i[1].lower() + i[2:]\n",
    "            sentence[n] = i\n",
    "        #remove doubles\n",
    "        if sentence.index(i) < len(sentence)-1:\n",
    "            if sentence[sentence.index(i)] == sentence[sentence.index(i)+1]:\n",
    "                sentence.remove(sentence[sentence.index(i)+1])\n",
    "        #lower case first word\n",
    "        if i == sentence[0] and ('A' >= i[0] or i[0] >= 'Z'):\n",
    "            n = sentence.index(i)\n",
    "            i = i[0].upper() + i[1:]\n",
    "            sentence[n] = i\n",
    "        #entirely capitals, except first letter\n",
    "        if 'a' <= i[0] <= 'z' and i[1:] == i[1:].upper():\n",
    "            n = sentence.index(i)\n",
    "            i = i[0].upper() + i[1:].lower()\n",
    "            sentence[n] = i\n",
    "        #name of a day, not in capital\n",
    "        if i in days and 'a' <= i[2] <= 'z':\n",
    "            n = sentence.index(i)\n",
    "            i = i[0].upper() + i[1:].lower()\n",
    "            sentence[n] = i\n",
    "    print(' '.join(sentence))\n",
    "    return\n",
    "\n",
    "string = \"as it turned out our chance meeting with REverend aRTHUR BElling was \\\n",
    "was to change our whole way of life, and every sunday we'd hurry along to St lOONY up the Cream BUn and Jam.\"\n",
    "autocorrect(string)\n"
   ]
  },
  {
   "cell_type": "markdown",
   "metadata": {},
   "source": [
    "### Exercise 11.3 (Optional)\n",
    "In this directory you find a file `blakepoems.txt`. Write a program that processes the contents of this file, line by line. It creates an output file in the current working directory called `blkpms.txt`, which has the same contents as `blakepoems.txt`, except that all the vowels are removed (case-insensitively). At the end, display how many characters you read, and how many characters you wrote. If you want to check the contents of `blkpms.txt`, you can either open it in a text editor, or display the first 10 lines or so at the end of your program."
   ]
  },
  {
   "cell_type": "code",
   "execution_count": 46,
   "metadata": {},
   "outputs": [
    {
     "name": "stdout",
     "output_type": "stream",
     "text": [
      "37870\n",
      "27722\n"
     ]
    }
   ],
   "source": [
    "## Your Code Here\n",
    "\n",
    "def happy_murloc_noises(file):\n",
    "    fp = open(file)\n",
    "    tar = open('blkpms.txt', 'w')\n",
    "    vowels = ['a', 'e', 'o', 'i', 'u']\n",
    "    read = 0\n",
    "    wrote = 0\n",
    "    for i in fp.readlines():\n",
    "        k = ''.join(i).lower()\n",
    "        for char in k:\n",
    "            read += 1\n",
    "            line = ''\n",
    "            if char in vowels:\n",
    "                continue\n",
    "            else:\n",
    "                line += char\n",
    "                wrote += 1\n",
    "            tar.writelines(line)\n",
    "    print(read)\n",
    "    print(wrote)\n",
    "    return\n",
    "\n",
    "happy_murloc_noises('blakepoems.txt')"
   ]
  }
 ],
 "metadata": {
  "kernelspec": {
   "display_name": "Python 3",
   "language": "python",
   "name": "python3"
  },
  "language_info": {
   "codemirror_mode": {
    "name": "ipython",
    "version": 3
   },
   "file_extension": ".py",
   "mimetype": "text/x-python",
   "name": "python",
   "nbconvert_exporter": "python",
   "pygments_lexer": "ipython3",
   "version": "3.7.4"
  }
 },
 "nbformat": 4,
 "nbformat_minor": 2
}