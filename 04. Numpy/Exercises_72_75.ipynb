{
 "cells": [
  {
   "cell_type": "code",
   "execution_count": 1,
   "metadata": {
    "collapsed": true
   },
   "outputs": [],
   "source": [
    "import numpy as np"
   ]
  },
  {
   "cell_type": "markdown",
   "source": [
    "#### 72. How to swap two rows of an array? (★★★)"
   ],
   "metadata": {
    "collapsed": false
   }
  },
  {
   "cell_type": "code",
   "execution_count": 50,
   "outputs": [
    {
     "name": "stdout",
     "output_type": "stream",
     "text": [
      "[[6 4 2]\n",
      " [3 2 1]\n",
      " [2 4 6]\n",
      " [1 2 3]]\n"
     ]
    }
   ],
   "source": [
    "def change_rows(arr, row1, row2):\n",
    "    arr[[row1-1]], arr[[row2-1]] = arr[[row2-1]], arr[[row1-1]]\n",
    "    print(arr)\n",
    "\n",
    "array = np.array([[1,2,3], [3,2,1], [2,4,6], [6,4,2]])\n",
    "change_rows(array, 1, 4)"
   ],
   "metadata": {
    "collapsed": false,
    "pycharm": {
     "name": "#%%\n"
    }
   }
  },
  {
   "cell_type": "markdown",
   "source": [
    "#### 75. How to compute averages using a sliding window over an array? (★★★)"
   ],
   "metadata": {
    "collapsed": false
   }
  },
  {
   "cell_type": "code",
   "execution_count": 65,
   "outputs": [
    {
     "data": {
      "text/plain": "[2.5, 3.5, 4.5, 5.5, 6.5, 7.5, 8.5]"
     },
     "execution_count": 65,
     "metadata": {},
     "output_type": "execute_result"
    }
   ],
   "source": [
    "def sliding_average(array, n):\n",
    "    averages = []\n",
    "    for i in range(len(array)-(n-1)):\n",
    "        a = sum(array[0 + i.__index__():n + i.__index__()]) / n\n",
    "        averages.append(a)\n",
    "    return averages\n",
    "arr = np.arange(1, 11)\n",
    "sliding_average(arr, 4)"
   ],
   "metadata": {
    "collapsed": false,
    "pycharm": {
     "name": "#%%\n"
    }
   }
  },
  {
   "cell_type": "code",
   "execution_count": 64,
   "outputs": [
    {
     "data": {
      "text/plain": "array([2.5, 3.5, 4.5, 5.5, 6.5, 7.5, 8.5])"
     },
     "execution_count": 64,
     "metadata": {},
     "output_type": "execute_result"
    }
   ],
   "source": [
    "#Another solution, using slicing only to define the windows\n",
    "def average(array, n):\n",
    "    s = np.cumsum(array)\n",
    "    s[n:] = s[n:] - s[:-n]\n",
    "    return s[n-1:] / n\n",
    "\n",
    "arr = np.arange(1, 11)\n",
    "average(arr, 4)\n"
   ],
   "metadata": {
    "collapsed": false,
    "pycharm": {
     "name": "#%%\n"
    }
   }
  }
 ],
 "metadata": {
  "kernelspec": {
   "display_name": "Python 3",
   "language": "python",
   "name": "python3"
  },
  "language_info": {
   "codemirror_mode": {
    "name": "ipython",
    "version": 2
   },
   "file_extension": ".py",
   "mimetype": "text/x-python",
   "name": "python",
   "nbconvert_exporter": "python",
   "pygments_lexer": "ipython2",
   "version": "2.7.6"
  }
 },
 "nbformat": 4,
 "nbformat_minor": 0
}