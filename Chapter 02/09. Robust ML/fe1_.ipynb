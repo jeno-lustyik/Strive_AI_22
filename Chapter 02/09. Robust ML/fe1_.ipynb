{
 "cells": [
  {
   "cell_type": "markdown",
   "metadata": {},
   "source": [
    "## Imports"
   ]
  },
  {
   "cell_type": "code",
   "execution_count": 42,
   "metadata": {},
   "outputs": [],
   "source": [
    "# pip install --upgrade scikit-learn"
   ]
  },
  {
   "cell_type": "code",
   "execution_count": 43,
   "metadata": {
    "colab": {},
    "colab_type": "code",
    "id": "mjnuJ19dJV7v"
   },
   "outputs": [
    {
     "name": "stdout",
     "output_type": "stream",
     "text": [
      "Pandas   1.2.0\n",
      "Sklearn  1.0.2\n"
     ]
    }
   ],
   "source": [
    "import time\n",
    "\n",
    "import sklearn.tree\n",
    "from IPython.display import clear_output\n",
    "import numpy    as np\n",
    "import pandas   as pd\n",
    "import seaborn  as sb\n",
    "import matplotlib.pyplot as plt\n",
    "import sklearn  as skl\n",
    "\n",
    "from sklearn import pipeline      # Pipeline\n",
    "from sklearn import preprocessing # OrdinalEncoder, LabelEncoder\n",
    "from sklearn import impute\n",
    "from sklearn.preprocessing import StandardScaler\n",
    "from sklearn.preprocessing import OrdinalEncoder\n",
    "from sklearn import compose\n",
    "from sklearn import model_selection # train_test_split\n",
    "from sklearn import metrics         # accuracy_score, balanced_accuracy_score, plot_confusion_matrix\n",
    "from sklearn import set_config\n",
    "\n",
    "set_config(display='diagram') # Useful for display the pipeline\n",
    "\n",
    "print(\"Pandas  \", pd.__version__)\n",
    "print(\"Sklearn \", skl.__version__) # Try to use 0.24"
   ]
  },
  {
   "cell_type": "markdown",
   "metadata": {},
   "source": [
    "## Get the dataset\n",
    "- **CLOUD = True**: Download dataset from Kaggle. Necesary for cloud enviroments like COLAB. **Specify your [kaggle credentials](https://www.kaggle.com/docs/api)**.\n",
    "- **CLOUD = False**: Get the dataset from your local machine. **Specify the data path**."
   ]
  },
  {
   "cell_type": "code",
   "execution_count": 44,
   "metadata": {},
   "outputs": [],
   "source": [
    "DATA_PATH = \"titanic/\""
   ]
  },
  {
   "cell_type": "markdown",
   "metadata": {},
   "source": [
    "## Load data"
   ]
  },
  {
   "cell_type": "code",
   "execution_count": 45,
   "metadata": {
    "colab": {},
    "colab_type": "code",
    "id": "wAy8TnVPJV8S"
   },
   "outputs": [
    {
     "name": "stdout",
     "output_type": "stream",
     "text": [
      "Train DataFrame: (891, 11)\n",
      "Test DataFrame:  (418, 10)\n"
     ]
    }
   ],
   "source": [
    "df      = pd.read_csv(DATA_PATH + \"train.csv\", index_col='PassengerId')\n",
    "df_test = pd.read_csv(DATA_PATH + \"test.csv\",  index_col='PassengerId')\n",
    "\n",
    "print(\"Train DataFrame:\", df.shape)\n",
    "print(\"Test DataFrame: \", df_test.shape)"
   ]
  },
  {
   "cell_type": "markdown",
   "metadata": {},
   "source": [
    "## Check missings"
   ]
  },
  {
   "cell_type": "code",
   "execution_count": 46,
   "metadata": {},
   "outputs": [
    {
     "data": {
      "text/plain": "Survived      0\nPclass        0\nName          0\nSex           0\nAge         177\nSibSp         0\nParch         0\nTicket        0\nFare          0\nCabin       687\nEmbarked      2\ndtype: int64"
     },
     "execution_count": 46,
     "metadata": {},
     "output_type": "execute_result"
    }
   ],
   "source": [
    "df.isnull().sum()"
   ]
  },
  {
   "cell_type": "code",
   "execution_count": 47,
   "metadata": {},
   "outputs": [
    {
     "data": {
      "text/plain": "Pclass        0\nName          0\nSex           0\nAge          86\nSibSp         0\nParch         0\nTicket        0\nFare          1\nCabin       327\nEmbarked      0\ndtype: int64"
     },
     "execution_count": 47,
     "metadata": {},
     "output_type": "execute_result"
    }
   ],
   "source": [
    "df_test.isnull().sum()"
   ]
  },
  {
   "cell_type": "markdown",
   "metadata": {},
   "source": [
    "# Exercise 1 (2pts):\n",
    "Extract the title (Mr, Mrs, ... ) from the \"Name\" column.\n",
    "\n",
    "Tips:\n",
    "- split(',')[1] to get the 2nd part, and remove the surnamename\n",
    "- split('.')[0] to get the 1str part, and remove the name"
   ]
  },
  {
   "cell_type": "code",
   "execution_count": 48,
   "metadata": {
    "nbgrader": {
     "grade": false,
     "grade_id": "cell-d56107842f0f54d2",
     "locked": false,
     "schema_version": 3,
     "solution": true,
     "task": false
    }
   },
   "outputs": [],
   "source": [
    "# CODE HERE get_Title_from_Name funtion\n",
    "# Create this function using lambda (not def)\n",
    "\n",
    "get_Title_from_Name = lambda name: name.split(',')[1].split('.')[0].strip()\n",
    "df['Title'] = df['Name'].apply(get_Title_from_Name)\n",
    "df_test['Title'] = df_test['Name'].apply(get_Title_from_Name)"
   ]
  },
  {
   "cell_type": "code",
   "execution_count": 49,
   "metadata": {
    "nbgrader": {
     "grade": true,
     "grade_id": "cell-f3d989a17018344b",
     "locked": true,
     "points": 2,
     "schema_version": 3,
     "solution": false,
     "task": false
    }
   },
   "outputs": [],
   "source": [
    "assert df['Title'].values[0] == \"Mr\"\n",
    "assert df['Title'].values[1] == \"Mrs\"\n",
    "assert df['Title'].values[2] == \"Miss\"\n",
    "\n",
    "assert df_test['Title'].values[0] == \"Mr\"\n",
    "assert df_test['Title'].values[1] == \"Mrs\"\n",
    "assert df_test['Title'].values[414] == \"Dona\""
   ]
  },
  {
   "cell_type": "markdown",
   "metadata": {},
   "source": [
    "# Exercise 2 (1pts):\n",
    "Apply the title_dictionary to get a better information about the title. You have to overwrite the Title variable."
   ]
  },
  {
   "cell_type": "code",
   "execution_count": 50,
   "metadata": {},
   "outputs": [],
   "source": [
    "title_dictionary = {\n",
    "    \"Capt\": \"Officer\",\n",
    "    \"Col\": \"Officer\",\n",
    "    \"Major\": \"Officer\",\n",
    "    \"Jonkheer\": \"Royalty\",\n",
    "    \"Don\": \"Royalty\",\n",
    "    \"Sir\" : \"Royalty\",\n",
    "    \"Dr\": \"Officer\",\n",
    "    \"Rev\": \"Officer\",\n",
    "    \"the Countess\":\"Royalty\",\n",
    "    \"Mme\": \"Mrs\",\n",
    "    \"Mlle\": \"Miss\",\n",
    "    \"Ms\": \"Mrs\",\n",
    "    \"Mr\" : \"Mr\",\n",
    "    \"Mrs\" : \"Mrs\",\n",
    "    \"Miss\" : \"Miss\",\n",
    "    \"Master\" : \"Master\",\n",
    "    \"Lady\" : \"Royalty\"\n",
    "}"
   ]
  },
  {
   "cell_type": "code",
   "execution_count": 51,
   "metadata": {
    "nbgrader": {
     "grade": false,
     "grade_id": "cell-5c6a842c812fafda",
     "locked": false,
     "schema_version": 3,
     "solution": true,
     "task": false
    }
   },
   "outputs": [],
   "source": [
    "# Use map to apply the prevous dict\n",
    "\n",
    "df[\"Title\"] = df['Title'].map(title_dictionary)\n",
    "df_test[\"Title\"] = df_test['Title'].map(title_dictionary)\n"
   ]
  },
  {
   "cell_type": "code",
   "execution_count": 52,
   "metadata": {
    "nbgrader": {
     "grade": true,
     "grade_id": "cell-669f5a637e57e835",
     "locked": true,
     "points": 1,
     "schema_version": 3,
     "solution": false,
     "task": false
    }
   },
   "outputs": [],
   "source": [
    "assert df['Title'].values[886] == \"Officer\"\n",
    "assert df_test['Title'].values[417] == \"Master\""
   ]
  },
  {
   "cell_type": "markdown",
   "metadata": {},
   "source": [
    "# Exercise OPTIONAL (0pts):\n",
    "Try to extract some information from the feature **Ticket**. Search on Internet if that colum has some kind of information."
   ]
  },
  {
   "cell_type": "code",
   "execution_count": 52,
   "metadata": {},
   "outputs": [],
   "source": []
  },
  {
   "cell_type": "markdown",
   "metadata": {},
   "source": [
    "# Exercise OPTIONAL (0pts):\n",
    "Try to extract some information from the feature **Cabin**. Search on Internet if that colum has some kind of information."
   ]
  },
  {
   "cell_type": "code",
   "execution_count": 52,
   "metadata": {},
   "outputs": [],
   "source": []
  },
  {
   "cell_type": "markdown",
   "metadata": {},
   "source": [
    "# Preprocessing\n",
    "For X data, notice that...\n",
    "- We drop Survived because is the target variable\n",
    "- We drop Name because we have extracted the Title: Mr, Mrs, ...\n",
    "- We drop Ticket because it has no information -> see df.Ticket.nunique()\n",
    "- We drop Cabin because it has a lot of missings (77% are missings)\n",
    "\n",
    "Then, we identify **numerical** variables and **categorical** variables,"
   ]
  },
  {
   "cell_type": "code",
   "execution_count": 53,
   "metadata": {},
   "outputs": [],
   "source": [
    "x = df.drop(columns=[\"Survived\", 'Name', 'Ticket', 'Cabin']) # X DATA (WILL BE TRAIN+VALID DATA)\n",
    "y = df[\"Survived\"] # 0 = No, 1 = Yes\n",
    "\n",
    "x_test = df_test.drop(columns=['Name', 'Ticket', 'Cabin']) # # X_TEST DATA (NEW DATA)"
   ]
  },
  {
   "cell_type": "code",
   "execution_count": 54,
   "metadata": {},
   "outputs": [
    {
     "name": "stdout",
     "output_type": "stream",
     "text": [
      "\n",
      "Numerical features:\n",
      " ['Pclass', 'SibSp', 'Parch', 'Fare', 'Age']\n",
      "\n",
      "Categorical features:\n",
      " ['Sex', 'Embarked', 'Title']\n"
     ]
    }
   ],
   "source": [
    "cat_vars  = ['Sex', 'Embarked', 'Title']         # x.select_dtypes(include=[object]).columns.values.tolist()\n",
    "num_vars  = ['Pclass', 'SibSp', 'Parch', 'Fare', 'Age'] # x.select_dtypes(exclude=[object]).columns.values.tolist()\n",
    "\n",
    "print(\"\\nNumerical features:\\n\", num_vars)\n",
    "print(\"\\nCategorical features:\\n\", cat_vars)"
   ]
  },
  {
   "cell_type": "markdown",
   "metadata": {},
   "source": [
    "# Exercise 3 (2pts):\n",
    "Create a **ColumnTransformer for Tree Models**. You need to create 2 pipelines (one for numerical and other for categories). Remember:\n",
    "- Categorical pipeline: Some SimpleImputer -> Some Encoder\n",
    "- Numerical pipeline: Some SimpleImputer -> NO Encoder"
   ]
  },
  {
   "cell_type": "code",
   "execution_count": 61,
   "metadata": {
    "nbgrader": {
     "grade": false,
     "grade_id": "cell-c607e75fb38ea248",
     "locked": false,
     "schema_version": 3,
     "solution": true,
     "task": false
    }
   },
   "outputs": [],
   "source": [
    "\"\"\"\n",
    "num_preprocessing = pipeline.Pipeline(steps=[\n",
    "  # Some SimpleImputer here\n",
    "])\n",
    "\n",
    "cat_preporcessing = pipeline.Pipeline(steps=[\n",
    "  # Some SimpleImputer here\n",
    "  # Some Encoder here. Remember to handle_unknown\n",
    "])\n",
    "\n",
    "tree_prepro = compose.ColumnTransformer(transformers=[\n",
    "    ('num', num_preprocessing, num_vars),\n",
    "    ('cat', cat_preporcessing, cat_vars),\n",
    "], remainder='drop') # Drop other vars not specified in num_vars or cat_vars\n",
    "\n",
    "tree_prepro\n",
    "\"\"\";\n",
    "\n",
    "### BEGIN SOLUTION\n",
    "num_preprocessing = pipeline.Pipeline(steps=[('imp', impute.SimpleImputer(strategy='mean'))])\n",
    "cat_preprocessing = pipeline.Pipeline(steps=[('encoding', OrdinalEncoder(handle_unknown= 'use_encoded_value', unknown_value=np.nan)), ('imp', impute.SimpleImputer(strategy='most_frequent'))])\n",
    "\n",
    "tree_prepro = compose.ColumnTransformer(transformers=[\n",
    "    ('num', num_preprocessing, num_vars),\n",
    "    ('cat', cat_preprocessing, cat_vars),\n",
    "], remainder='drop')"
   ]
  },
  {
   "cell_type": "code",
   "execution_count": 62,
   "metadata": {
    "nbgrader": {
     "grade": true,
     "grade_id": "cell-e636558135fb5975",
     "locked": true,
     "points": 2,
     "schema_version": 3,
     "solution": false,
     "task": false
    }
   },
   "outputs": [],
   "source": [
    "assert type(tree_prepro)      is compose._column_transformer.ColumnTransformer\n",
    "assert type(num_preprocessing) is pipeline.Pipeline\n",
    "assert type(cat_preprocessing) is pipeline.Pipeline\n",
    "assert len(num_preprocessing) == 1\n",
    "assert len(cat_preprocessing) == 2"
   ]
  },
  {
   "cell_type": "markdown",
   "metadata": {},
   "source": [
    "# Exercise 4 (1pts):\n",
    "1. Complete the diccionary with some Tree Models.\n",
    "2. Then we put each model in a Pipeline where:\n",
    "   - first is the prepocessing with the column Transformer\n",
    "   - Then is the Tree model\n",
    "3. Display the fullpipeline of the LGBMClassifier"
   ]
  },
  {
   "cell_type": "code",
   "execution_count": 63,
   "metadata": {},
   "outputs": [],
   "source": [
    "from sklearn.tree import DecisionTreeClassifier\n",
    "from sklearn.ensemble import RandomForestClassifier\n",
    "from sklearn.ensemble import ExtraTreesClassifier\n",
    "from sklearn.ensemble import AdaBoostClassifier\n",
    "from sklearn.ensemble import GradientBoostingClassifier\n",
    "from sklearn.experimental import enable_hist_gradient_boosting # Necesary for HistGradientBoostingClassifier\n",
    "from sklearn.ensemble import HistGradientBoostingClassifier\n",
    "from xgboost import XGBClassifier\n",
    "from lightgbm import LGBMClassifier\n",
    "from catboost import CatBoostClassifier"
   ]
  },
  {
   "cell_type": "code",
   "execution_count": 104,
   "metadata": {
    "nbgrader": {
     "grade": false,
     "grade_id": "cell-76a3be8223730c5a",
     "locked": false,
     "schema_version": 3,
     "solution": true,
     "task": false
    }
   },
   "outputs": [
    {
     "data": {
      "text/plain": "Pipeline(steps=[('columntransformer',\n                 ColumnTransformer(transformers=[('num',\n                                                  Pipeline(steps=[('imp',\n                                                                   SimpleImputer())]),\n                                                  ['Pclass', 'SibSp', 'Parch',\n                                                   'Fare', 'Age']),\n                                                 ('cat',\n                                                  Pipeline(steps=[('encoding',\n                                                                   OrdinalEncoder(handle_unknown='use_encoded_value',\n                                                                                  unknown_value=nan)),\n                                                                  ('imp',\n                                                                   SimpleImputer(strategy='most_frequent'))]),\n                                                  ['Sex', 'Embarked',\n                                                   'Title'])])),\n                ('lgbmclassifier', LGBMClassifier())])",
      "text/html": "<style>#sk-166ccaf8-861e-49c4-976e-2432c19e4dde {color: black;background-color: white;}#sk-166ccaf8-861e-49c4-976e-2432c19e4dde pre{padding: 0;}#sk-166ccaf8-861e-49c4-976e-2432c19e4dde div.sk-toggleable {background-color: white;}#sk-166ccaf8-861e-49c4-976e-2432c19e4dde label.sk-toggleable__label {cursor: pointer;display: block;width: 100%;margin-bottom: 0;padding: 0.3em;box-sizing: border-box;text-align: center;}#sk-166ccaf8-861e-49c4-976e-2432c19e4dde label.sk-toggleable__label-arrow:before {content: \"▸\";float: left;margin-right: 0.25em;color: #696969;}#sk-166ccaf8-861e-49c4-976e-2432c19e4dde label.sk-toggleable__label-arrow:hover:before {color: black;}#sk-166ccaf8-861e-49c4-976e-2432c19e4dde div.sk-estimator:hover label.sk-toggleable__label-arrow:before {color: black;}#sk-166ccaf8-861e-49c4-976e-2432c19e4dde div.sk-toggleable__content {max-height: 0;max-width: 0;overflow: hidden;text-align: left;background-color: #f0f8ff;}#sk-166ccaf8-861e-49c4-976e-2432c19e4dde div.sk-toggleable__content pre {margin: 0.2em;color: black;border-radius: 0.25em;background-color: #f0f8ff;}#sk-166ccaf8-861e-49c4-976e-2432c19e4dde input.sk-toggleable__control:checked~div.sk-toggleable__content {max-height: 200px;max-width: 100%;overflow: auto;}#sk-166ccaf8-861e-49c4-976e-2432c19e4dde input.sk-toggleable__control:checked~label.sk-toggleable__label-arrow:before {content: \"▾\";}#sk-166ccaf8-861e-49c4-976e-2432c19e4dde div.sk-estimator input.sk-toggleable__control:checked~label.sk-toggleable__label {background-color: #d4ebff;}#sk-166ccaf8-861e-49c4-976e-2432c19e4dde div.sk-label input.sk-toggleable__control:checked~label.sk-toggleable__label {background-color: #d4ebff;}#sk-166ccaf8-861e-49c4-976e-2432c19e4dde input.sk-hidden--visually {border: 0;clip: rect(1px 1px 1px 1px);clip: rect(1px, 1px, 1px, 1px);height: 1px;margin: -1px;overflow: hidden;padding: 0;position: absolute;width: 1px;}#sk-166ccaf8-861e-49c4-976e-2432c19e4dde div.sk-estimator {font-family: monospace;background-color: #f0f8ff;border: 1px dotted black;border-radius: 0.25em;box-sizing: border-box;margin-bottom: 0.5em;}#sk-166ccaf8-861e-49c4-976e-2432c19e4dde div.sk-estimator:hover {background-color: #d4ebff;}#sk-166ccaf8-861e-49c4-976e-2432c19e4dde div.sk-parallel-item::after {content: \"\";width: 100%;border-bottom: 1px solid gray;flex-grow: 1;}#sk-166ccaf8-861e-49c4-976e-2432c19e4dde div.sk-label:hover label.sk-toggleable__label {background-color: #d4ebff;}#sk-166ccaf8-861e-49c4-976e-2432c19e4dde div.sk-serial::before {content: \"\";position: absolute;border-left: 1px solid gray;box-sizing: border-box;top: 2em;bottom: 0;left: 50%;}#sk-166ccaf8-861e-49c4-976e-2432c19e4dde div.sk-serial {display: flex;flex-direction: column;align-items: center;background-color: white;padding-right: 0.2em;padding-left: 0.2em;}#sk-166ccaf8-861e-49c4-976e-2432c19e4dde div.sk-item {z-index: 1;}#sk-166ccaf8-861e-49c4-976e-2432c19e4dde div.sk-parallel {display: flex;align-items: stretch;justify-content: center;background-color: white;}#sk-166ccaf8-861e-49c4-976e-2432c19e4dde div.sk-parallel::before {content: \"\";position: absolute;border-left: 1px solid gray;box-sizing: border-box;top: 2em;bottom: 0;left: 50%;}#sk-166ccaf8-861e-49c4-976e-2432c19e4dde div.sk-parallel-item {display: flex;flex-direction: column;position: relative;background-color: white;}#sk-166ccaf8-861e-49c4-976e-2432c19e4dde div.sk-parallel-item:first-child::after {align-self: flex-end;width: 50%;}#sk-166ccaf8-861e-49c4-976e-2432c19e4dde div.sk-parallel-item:last-child::after {align-self: flex-start;width: 50%;}#sk-166ccaf8-861e-49c4-976e-2432c19e4dde div.sk-parallel-item:only-child::after {width: 0;}#sk-166ccaf8-861e-49c4-976e-2432c19e4dde div.sk-dashed-wrapped {border: 1px dashed gray;margin: 0 0.4em 0.5em 0.4em;box-sizing: border-box;padding-bottom: 0.4em;background-color: white;position: relative;}#sk-166ccaf8-861e-49c4-976e-2432c19e4dde div.sk-label label {font-family: monospace;font-weight: bold;background-color: white;display: inline-block;line-height: 1.2em;}#sk-166ccaf8-861e-49c4-976e-2432c19e4dde div.sk-label-container {position: relative;z-index: 2;text-align: center;}#sk-166ccaf8-861e-49c4-976e-2432c19e4dde div.sk-container {/* jupyter's `normalize.less` sets `[hidden] { display: none; }` but bootstrap.min.css set `[hidden] { display: none !important; }` so we also need the `!important` here to be able to override the default hidden behavior on the sphinx rendered scikit-learn.org. See: https://github.com/scikit-learn/scikit-learn/issues/21755 */display: inline-block !important;position: relative;}#sk-166ccaf8-861e-49c4-976e-2432c19e4dde div.sk-text-repr-fallback {display: none;}</style><div id=\"sk-166ccaf8-861e-49c4-976e-2432c19e4dde\" class=\"sk-top-container\"><div class=\"sk-text-repr-fallback\"><pre>Pipeline(steps=[(&#x27;columntransformer&#x27;,\n                 ColumnTransformer(transformers=[(&#x27;num&#x27;,\n                                                  Pipeline(steps=[(&#x27;imp&#x27;,\n                                                                   SimpleImputer())]),\n                                                  [&#x27;Pclass&#x27;, &#x27;SibSp&#x27;, &#x27;Parch&#x27;,\n                                                   &#x27;Fare&#x27;, &#x27;Age&#x27;]),\n                                                 (&#x27;cat&#x27;,\n                                                  Pipeline(steps=[(&#x27;encoding&#x27;,\n                                                                   OrdinalEncoder(handle_unknown=&#x27;use_encoded_value&#x27;,\n                                                                                  unknown_value=nan)),\n                                                                  (&#x27;imp&#x27;,\n                                                                   SimpleImputer(strategy=&#x27;most_frequent&#x27;))]),\n                                                  [&#x27;Sex&#x27;, &#x27;Embarked&#x27;,\n                                                   &#x27;Title&#x27;])])),\n                (&#x27;lgbmclassifier&#x27;, LGBMClassifier())])</pre><b>Please rerun this cell to show the HTML repr or trust the notebook.</b></div><div class=\"sk-container\" hidden><div class=\"sk-item sk-dashed-wrapped\"><div class=\"sk-label-container\"><div class=\"sk-label sk-toggleable\"><input class=\"sk-toggleable__control sk-hidden--visually\" id=\"367c8e16-5cca-4d5e-8606-642fc0707a62\" type=\"checkbox\" ><label for=\"367c8e16-5cca-4d5e-8606-642fc0707a62\" class=\"sk-toggleable__label sk-toggleable__label-arrow\">Pipeline</label><div class=\"sk-toggleable__content\"><pre>Pipeline(steps=[(&#x27;columntransformer&#x27;,\n                 ColumnTransformer(transformers=[(&#x27;num&#x27;,\n                                                  Pipeline(steps=[(&#x27;imp&#x27;,\n                                                                   SimpleImputer())]),\n                                                  [&#x27;Pclass&#x27;, &#x27;SibSp&#x27;, &#x27;Parch&#x27;,\n                                                   &#x27;Fare&#x27;, &#x27;Age&#x27;]),\n                                                 (&#x27;cat&#x27;,\n                                                  Pipeline(steps=[(&#x27;encoding&#x27;,\n                                                                   OrdinalEncoder(handle_unknown=&#x27;use_encoded_value&#x27;,\n                                                                                  unknown_value=nan)),\n                                                                  (&#x27;imp&#x27;,\n                                                                   SimpleImputer(strategy=&#x27;most_frequent&#x27;))]),\n                                                  [&#x27;Sex&#x27;, &#x27;Embarked&#x27;,\n                                                   &#x27;Title&#x27;])])),\n                (&#x27;lgbmclassifier&#x27;, LGBMClassifier())])</pre></div></div></div><div class=\"sk-serial\"><div class=\"sk-item sk-dashed-wrapped\"><div class=\"sk-label-container\"><div class=\"sk-label sk-toggleable\"><input class=\"sk-toggleable__control sk-hidden--visually\" id=\"7af0f3f2-fed1-49f5-aad4-cef76ea77fe2\" type=\"checkbox\" ><label for=\"7af0f3f2-fed1-49f5-aad4-cef76ea77fe2\" class=\"sk-toggleable__label sk-toggleable__label-arrow\">columntransformer: ColumnTransformer</label><div class=\"sk-toggleable__content\"><pre>ColumnTransformer(transformers=[(&#x27;num&#x27;,\n                                 Pipeline(steps=[(&#x27;imp&#x27;, SimpleImputer())]),\n                                 [&#x27;Pclass&#x27;, &#x27;SibSp&#x27;, &#x27;Parch&#x27;, &#x27;Fare&#x27;, &#x27;Age&#x27;]),\n                                (&#x27;cat&#x27;,\n                                 Pipeline(steps=[(&#x27;encoding&#x27;,\n                                                  OrdinalEncoder(handle_unknown=&#x27;use_encoded_value&#x27;,\n                                                                 unknown_value=nan)),\n                                                 (&#x27;imp&#x27;,\n                                                  SimpleImputer(strategy=&#x27;most_frequent&#x27;))]),\n                                 [&#x27;Sex&#x27;, &#x27;Embarked&#x27;, &#x27;Title&#x27;])])</pre></div></div></div><div class=\"sk-parallel\"><div class=\"sk-parallel-item\"><div class=\"sk-item\"><div class=\"sk-label-container\"><div class=\"sk-label sk-toggleable\"><input class=\"sk-toggleable__control sk-hidden--visually\" id=\"332cd194-8a37-432a-bc09-640830b646d5\" type=\"checkbox\" ><label for=\"332cd194-8a37-432a-bc09-640830b646d5\" class=\"sk-toggleable__label sk-toggleable__label-arrow\">num</label><div class=\"sk-toggleable__content\"><pre>[&#x27;Pclass&#x27;, &#x27;SibSp&#x27;, &#x27;Parch&#x27;, &#x27;Fare&#x27;, &#x27;Age&#x27;]</pre></div></div></div><div class=\"sk-serial\"><div class=\"sk-item\"><div class=\"sk-serial\"><div class=\"sk-item\"><div class=\"sk-estimator sk-toggleable\"><input class=\"sk-toggleable__control sk-hidden--visually\" id=\"bdcda69f-f5f0-4cfc-84a8-28e74ac69b6c\" type=\"checkbox\" ><label for=\"bdcda69f-f5f0-4cfc-84a8-28e74ac69b6c\" class=\"sk-toggleable__label sk-toggleable__label-arrow\">SimpleImputer</label><div class=\"sk-toggleable__content\"><pre>SimpleImputer()</pre></div></div></div></div></div></div></div></div><div class=\"sk-parallel-item\"><div class=\"sk-item\"><div class=\"sk-label-container\"><div class=\"sk-label sk-toggleable\"><input class=\"sk-toggleable__control sk-hidden--visually\" id=\"4dc097c9-c471-45be-a80a-2eb66335add6\" type=\"checkbox\" ><label for=\"4dc097c9-c471-45be-a80a-2eb66335add6\" class=\"sk-toggleable__label sk-toggleable__label-arrow\">cat</label><div class=\"sk-toggleable__content\"><pre>[&#x27;Sex&#x27;, &#x27;Embarked&#x27;, &#x27;Title&#x27;]</pre></div></div></div><div class=\"sk-serial\"><div class=\"sk-item\"><div class=\"sk-serial\"><div class=\"sk-item\"><div class=\"sk-estimator sk-toggleable\"><input class=\"sk-toggleable__control sk-hidden--visually\" id=\"343ca66b-4ae5-4aec-a0c3-ef4e46bdc3ee\" type=\"checkbox\" ><label for=\"343ca66b-4ae5-4aec-a0c3-ef4e46bdc3ee\" class=\"sk-toggleable__label sk-toggleable__label-arrow\">OrdinalEncoder</label><div class=\"sk-toggleable__content\"><pre>OrdinalEncoder(handle_unknown=&#x27;use_encoded_value&#x27;, unknown_value=nan)</pre></div></div></div><div class=\"sk-item\"><div class=\"sk-estimator sk-toggleable\"><input class=\"sk-toggleable__control sk-hidden--visually\" id=\"7f7dcb3c-6d95-413c-9451-38fb02a35550\" type=\"checkbox\" ><label for=\"7f7dcb3c-6d95-413c-9451-38fb02a35550\" class=\"sk-toggleable__label sk-toggleable__label-arrow\">SimpleImputer</label><div class=\"sk-toggleable__content\"><pre>SimpleImputer(strategy=&#x27;most_frequent&#x27;)</pre></div></div></div></div></div></div></div></div></div></div><div class=\"sk-item\"><div class=\"sk-estimator sk-toggleable\"><input class=\"sk-toggleable__control sk-hidden--visually\" id=\"b428c867-1525-489e-8e91-0fca3d2023db\" type=\"checkbox\" ><label for=\"b428c867-1525-489e-8e91-0fca3d2023db\" class=\"sk-toggleable__label sk-toggleable__label-arrow\">LGBMClassifier</label><div class=\"sk-toggleable__content\"><pre>LGBMClassifier()</pre></div></div></div></div></div></div></div>"
     },
     "execution_count": 104,
     "metadata": {},
     "output_type": "execute_result"
    }
   ],
   "source": [
    "tree_classifiers = {\n",
    "  \"Decision Tree\": DecisionTreeClassifier(),\n",
    "  \"Extra Trees\": ExtraTreesClassifier(n_estimators=10),\n",
    "  \"Random Forest\": RandomForestClassifier(n_estimators=100),\n",
    "  \"AdaBoost\": AdaBoostClassifier(n_estimators=100),\n",
    "  \"Skl GBM\": GradientBoostingClassifier(n_estimators=100),\n",
    "  \"Skl HistGBM\": HistGradientBoostingClassifier(max_iter=100),\n",
    "  \"XGBoost\": XGBClassifier(n_estimators=100),\n",
    "  \"LightGBM\": LGBMClassifier(n_estimators=100),\n",
    "  \"CatBoost\": CatBoostClassifier(n_estimators=100)}\n",
    "\n",
    "tree_classifiers = {name: pipeline.make_pipeline(tree_prepro, model) for name, model in tree_classifiers.items()}\n",
    "\n",
    "tree_classifiers[\"LightGBM\"]\n",
    "\n",
    "\n"
   ]
  },
  {
   "cell_type": "code",
   "execution_count": 94,
   "metadata": {
    "nbgrader": {
     "grade": true,
     "grade_id": "cell-d4744022b37e2e9b",
     "locked": true,
     "points": 1,
     "schema_version": 3,
     "solution": false,
     "task": false
    }
   },
   "outputs": [],
   "source": [
    "for pipe in tree_classifiers.values():\n",
    "    assert type(pipe) is pipeline.Pipeline"
   ]
  },
  {
   "cell_type": "markdown",
   "metadata": {},
   "source": [
    "# Exercise 5 (3pts):\n",
    "Define a simple split validation strategy with:\n",
    "- 80% for train\n",
    "- 20% for validation\n",
    "- With stratification\n",
    "- random_state=0\n",
    "\n",
    "And train all the models in a for loop"
   ]
  },
  {
   "cell_type": "code",
   "execution_count": 105,
   "metadata": {
    "colab": {
     "base_uri": "https://localhost:8080/",
     "height": 173
    },
    "colab_type": "code",
    "id": "kY1uWk6-OcLw",
    "nbgrader": {
     "grade": false,
     "grade_id": "cell-64f17e0d448bca7e",
     "locked": false,
     "schema_version": 3,
     "solution": true,
     "task": false
    },
    "outputId": "3562463f-3197-424c-dc82-b07ad579e9cc"
   },
   "outputs": [
    {
     "name": "stderr",
     "output_type": "stream",
     "text": [
      "C:\\Users\\lusty\\anaconda3\\envs\\strive2\\lib\\site-packages\\xgboost\\sklearn.py:1224: UserWarning: The use of label encoder in XGBClassifier is deprecated and will be removed in a future release. To remove this warning, do the following: 1) Pass option use_label_encoder=False when constructing XGBClassifier object; and 2) Encode your labels (y) as integers starting with 0, i.e. 0, 1, 2, ..., [num_class - 1].\n",
      "  warnings.warn(label_encoder_deprecation_msg, UserWarning)\n"
     ]
    },
    {
     "name": "stdout",
     "output_type": "stream",
     "text": [
      "[17:40:00] WARNING: ..\\src\\learner.cc:1115: Starting in XGBoost 1.3.0, the default evaluation metric used with the objective 'binary:logistic' was changed from 'error' to 'logloss'. Explicitly set eval_metric if you'd like to restore the old behavior.\n",
      "Learning rate set to 0.073611\n",
      "0:\tlearn: 0.6698078\ttotal: 579us\tremaining: 57.3ms\n",
      "1:\tlearn: 0.6475368\ttotal: 1.98ms\tremaining: 96.9ms\n",
      "2:\tlearn: 0.6246599\ttotal: 3.15ms\tremaining: 102ms\n",
      "3:\tlearn: 0.6067681\ttotal: 3.66ms\tremaining: 87.9ms\n",
      "4:\tlearn: 0.5885585\ttotal: 4.92ms\tremaining: 93.4ms\n",
      "5:\tlearn: 0.5692983\ttotal: 6.16ms\tremaining: 96.5ms\n",
      "6:\tlearn: 0.5518821\ttotal: 7.14ms\tremaining: 94.9ms\n",
      "7:\tlearn: 0.5400279\ttotal: 7.56ms\tremaining: 86.9ms\n",
      "8:\tlearn: 0.5291555\ttotal: 8.47ms\tremaining: 85.6ms\n",
      "9:\tlearn: 0.5168313\ttotal: 9.83ms\tremaining: 88.5ms\n",
      "10:\tlearn: 0.5079603\ttotal: 10.6ms\tremaining: 86ms\n",
      "11:\tlearn: 0.4973309\ttotal: 12ms\tremaining: 88.2ms\n",
      "12:\tlearn: 0.4885899\ttotal: 13.1ms\tremaining: 87.4ms\n",
      "13:\tlearn: 0.4794641\ttotal: 14ms\tremaining: 85.8ms\n",
      "14:\tlearn: 0.4719021\ttotal: 14.9ms\tremaining: 84.4ms\n",
      "15:\tlearn: 0.4643561\ttotal: 16ms\tremaining: 84.2ms\n",
      "16:\tlearn: 0.4578566\ttotal: 17.2ms\tremaining: 83.8ms\n",
      "17:\tlearn: 0.4515226\ttotal: 18.3ms\tremaining: 83.3ms\n",
      "18:\tlearn: 0.4469374\ttotal: 19.6ms\tremaining: 83.7ms\n",
      "19:\tlearn: 0.4424148\ttotal: 20.9ms\tremaining: 83.6ms\n",
      "20:\tlearn: 0.4375014\ttotal: 22ms\tremaining: 82.9ms\n",
      "21:\tlearn: 0.4338503\ttotal: 22.9ms\tremaining: 81.1ms\n",
      "22:\tlearn: 0.4301114\ttotal: 24.2ms\tremaining: 81.1ms\n",
      "23:\tlearn: 0.4268697\ttotal: 25.4ms\tremaining: 80.6ms\n",
      "24:\tlearn: 0.4227221\ttotal: 26.6ms\tremaining: 79.8ms\n",
      "25:\tlearn: 0.4197660\ttotal: 27.6ms\tremaining: 78.6ms\n",
      "26:\tlearn: 0.4162594\ttotal: 28.8ms\tremaining: 77.9ms\n",
      "27:\tlearn: 0.4137604\ttotal: 29.7ms\tremaining: 76.5ms\n",
      "28:\tlearn: 0.4109125\ttotal: 31ms\tremaining: 76ms\n",
      "29:\tlearn: 0.4100520\ttotal: 31.4ms\tremaining: 73.3ms\n",
      "30:\tlearn: 0.4081278\ttotal: 32.5ms\tremaining: 72.4ms\n",
      "31:\tlearn: 0.4055639\ttotal: 33.5ms\tremaining: 71.2ms\n",
      "32:\tlearn: 0.4031393\ttotal: 35ms\tremaining: 71.1ms\n",
      "33:\tlearn: 0.4014768\ttotal: 36.3ms\tremaining: 70.4ms\n",
      "34:\tlearn: 0.3995576\ttotal: 37.3ms\tremaining: 69.2ms\n",
      "35:\tlearn: 0.3976466\ttotal: 38.3ms\tremaining: 68.1ms\n",
      "36:\tlearn: 0.3958197\ttotal: 39.7ms\tremaining: 67.5ms\n",
      "37:\tlearn: 0.3947641\ttotal: 40.8ms\tremaining: 66.6ms\n",
      "38:\tlearn: 0.3927564\ttotal: 41.8ms\tremaining: 65.4ms\n",
      "39:\tlearn: 0.3911756\ttotal: 43.1ms\tremaining: 64.7ms\n",
      "40:\tlearn: 0.3900106\ttotal: 44.3ms\tremaining: 63.7ms\n",
      "41:\tlearn: 0.3886711\ttotal: 45.3ms\tremaining: 62.5ms\n",
      "42:\tlearn: 0.3875236\ttotal: 46.6ms\tremaining: 61.8ms\n",
      "43:\tlearn: 0.3859879\ttotal: 47.9ms\tremaining: 61ms\n",
      "44:\tlearn: 0.3850903\ttotal: 48.9ms\tremaining: 59.7ms\n",
      "45:\tlearn: 0.3841996\ttotal: 49.9ms\tremaining: 58.6ms\n",
      "46:\tlearn: 0.3834075\ttotal: 51.3ms\tremaining: 57.9ms\n",
      "47:\tlearn: 0.3823427\ttotal: 52.4ms\tremaining: 56.8ms\n",
      "48:\tlearn: 0.3812089\ttotal: 53.7ms\tremaining: 55.9ms\n",
      "49:\tlearn: 0.3798526\ttotal: 54.8ms\tremaining: 54.8ms\n",
      "50:\tlearn: 0.3788806\ttotal: 55.9ms\tremaining: 53.8ms\n",
      "51:\tlearn: 0.3772848\ttotal: 57.2ms\tremaining: 52.8ms\n",
      "52:\tlearn: 0.3763638\ttotal: 58.1ms\tremaining: 51.5ms\n",
      "53:\tlearn: 0.3753097\ttotal: 59.3ms\tremaining: 50.5ms\n",
      "54:\tlearn: 0.3743514\ttotal: 60.4ms\tremaining: 49.4ms\n",
      "55:\tlearn: 0.3733287\ttotal: 61.5ms\tremaining: 48.4ms\n",
      "56:\tlearn: 0.3720325\ttotal: 62.6ms\tremaining: 47.2ms\n",
      "57:\tlearn: 0.3711141\ttotal: 63.7ms\tremaining: 46.1ms\n",
      "58:\tlearn: 0.3705291\ttotal: 64.5ms\tremaining: 44.8ms\n",
      "59:\tlearn: 0.3695840\ttotal: 65.6ms\tremaining: 43.7ms\n",
      "60:\tlearn: 0.3687708\ttotal: 66.7ms\tremaining: 42.7ms\n",
      "61:\tlearn: 0.3678140\ttotal: 67.9ms\tremaining: 41.6ms\n",
      "62:\tlearn: 0.3670806\ttotal: 69ms\tremaining: 40.5ms\n",
      "63:\tlearn: 0.3661010\ttotal: 70.2ms\tremaining: 39.5ms\n",
      "64:\tlearn: 0.3652172\ttotal: 71.3ms\tremaining: 38.4ms\n",
      "65:\tlearn: 0.3638491\ttotal: 72.3ms\tremaining: 37.3ms\n",
      "66:\tlearn: 0.3631720\ttotal: 73.4ms\tremaining: 36.2ms\n",
      "67:\tlearn: 0.3624092\ttotal: 74.5ms\tremaining: 35ms\n",
      "68:\tlearn: 0.3618899\ttotal: 75.6ms\tremaining: 34ms\n",
      "69:\tlearn: 0.3614412\ttotal: 76.9ms\tremaining: 33ms\n",
      "70:\tlearn: 0.3611088\ttotal: 77.9ms\tremaining: 31.8ms\n",
      "71:\tlearn: 0.3604319\ttotal: 79.1ms\tremaining: 30.8ms\n",
      "72:\tlearn: 0.3598522\ttotal: 80.2ms\tremaining: 29.7ms\n",
      "73:\tlearn: 0.3595416\ttotal: 81.3ms\tremaining: 28.6ms\n",
      "74:\tlearn: 0.3590685\ttotal: 82.6ms\tremaining: 27.5ms\n",
      "75:\tlearn: 0.3583900\ttotal: 83.9ms\tremaining: 26.5ms\n",
      "76:\tlearn: 0.3578164\ttotal: 85ms\tremaining: 25.4ms\n",
      "77:\tlearn: 0.3573174\ttotal: 86.1ms\tremaining: 24.3ms\n",
      "78:\tlearn: 0.3567975\ttotal: 87.1ms\tremaining: 23.2ms\n",
      "79:\tlearn: 0.3563442\ttotal: 88.3ms\tremaining: 22.1ms\n",
      "80:\tlearn: 0.3558866\ttotal: 89.4ms\tremaining: 21ms\n",
      "81:\tlearn: 0.3554946\ttotal: 90.6ms\tremaining: 19.9ms\n",
      "82:\tlearn: 0.3551676\ttotal: 91.7ms\tremaining: 18.8ms\n",
      "83:\tlearn: 0.3551036\ttotal: 92.2ms\tremaining: 17.6ms\n",
      "84:\tlearn: 0.3543468\ttotal: 93.2ms\tremaining: 16.5ms\n",
      "85:\tlearn: 0.3539068\ttotal: 94.4ms\tremaining: 15.4ms\n",
      "86:\tlearn: 0.3534565\ttotal: 95.5ms\tremaining: 14.3ms\n",
      "87:\tlearn: 0.3527735\ttotal: 96.6ms\tremaining: 13.2ms\n",
      "88:\tlearn: 0.3522458\ttotal: 97.7ms\tremaining: 12.1ms\n",
      "89:\tlearn: 0.3516388\ttotal: 98.7ms\tremaining: 11ms\n",
      "90:\tlearn: 0.3513973\ttotal: 99.9ms\tremaining: 9.88ms\n",
      "91:\tlearn: 0.3506089\ttotal: 101ms\tremaining: 8.78ms\n",
      "92:\tlearn: 0.3499353\ttotal: 102ms\tremaining: 7.68ms\n",
      "93:\tlearn: 0.3496074\ttotal: 103ms\tremaining: 6.58ms\n",
      "94:\tlearn: 0.3490082\ttotal: 104ms\tremaining: 5.48ms\n",
      "95:\tlearn: 0.3482903\ttotal: 105ms\tremaining: 4.39ms\n",
      "96:\tlearn: 0.3478474\ttotal: 106ms\tremaining: 3.29ms\n",
      "97:\tlearn: 0.3470417\ttotal: 107ms\tremaining: 2.19ms\n",
      "98:\tlearn: 0.3467973\ttotal: 108ms\tremaining: 1.09ms\n",
      "99:\tlearn: 0.3465952\ttotal: 109ms\tremaining: 0us\n"
     ]
    },
    {
     "data": {
      "text/plain": "<pandas.io.formats.style.Styler at 0x29a2b570ee0>",
      "text/html": "<style  type=\"text/css\" >\n#T_fdbd1_row0_col1{\n            width:  10em;\n             height:  80%;\n            background:  linear-gradient(90deg,#5fba7d 84.9%, transparent 84.9%);\n        }#T_fdbd1_row0_col2{\n            width:  10em;\n             height:  80%;\n            background:  linear-gradient(90deg,#5fba7d 82.6%, transparent 82.6%);\n        }#T_fdbd1_row1_col1{\n            width:  10em;\n             height:  80%;\n            background:  linear-gradient(90deg,#5fba7d 81.6%, transparent 81.6%);\n        }#T_fdbd1_row1_col2,#T_fdbd1_row5_col1,#T_fdbd1_row6_col1{\n            width:  10em;\n             height:  80%;\n            background:  linear-gradient(90deg,#5fba7d 78.8%, transparent 78.8%);\n        }#T_fdbd1_row2_col1,#T_fdbd1_row3_col1{\n            width:  10em;\n             height:  80%;\n            background:  linear-gradient(90deg,#5fba7d 81.0%, transparent 81.0%);\n        }#T_fdbd1_row2_col2{\n            width:  10em;\n             height:  80%;\n            background:  linear-gradient(90deg,#5fba7d 78.6%, transparent 78.6%);\n        }#T_fdbd1_row3_col2{\n            width:  10em;\n             height:  80%;\n            background:  linear-gradient(90deg,#5fba7d 78.3%, transparent 78.3%);\n        }#T_fdbd1_row4_col1{\n            width:  10em;\n             height:  80%;\n            background:  linear-gradient(90deg,#5fba7d 79.9%, transparent 79.9%);\n        }#T_fdbd1_row4_col2{\n            width:  10em;\n             height:  80%;\n            background:  linear-gradient(90deg,#5fba7d 76.9%, transparent 76.9%);\n        }#T_fdbd1_row5_col2,#T_fdbd1_row6_col2{\n            width:  10em;\n             height:  80%;\n            background:  linear-gradient(90deg,#5fba7d 76.8%, transparent 76.8%);\n        }#T_fdbd1_row7_col1{\n            width:  10em;\n             height:  80%;\n            background:  linear-gradient(90deg,#5fba7d 78.2%, transparent 78.2%);\n        }#T_fdbd1_row7_col2{\n            width:  10em;\n             height:  80%;\n            background:  linear-gradient(90deg,#5fba7d 75.5%, transparent 75.5%);\n        }#T_fdbd1_row8_col1{\n            width:  10em;\n             height:  80%;\n            background:  linear-gradient(90deg,#5fba7d 76.0%, transparent 76.0%);\n        }#T_fdbd1_row8_col2{\n            width:  10em;\n             height:  80%;\n            background:  linear-gradient(90deg,#5fba7d 73.4%, transparent 73.4%);\n        }</style><table id=\"T_fdbd1_\" ><thead>    <tr>        <th class=\"blank level0\" ></th>        <th class=\"col_heading level0 col0\" >Model</th>        <th class=\"col_heading level0 col1\" >Accuracy</th>        <th class=\"col_heading level0 col2\" >Bal Acc.</th>        <th class=\"col_heading level0 col3\" >Time</th>    </tr></thead><tbody>\n                <tr>\n                        <th id=\"T_fdbd1_level0_row0\" class=\"row_heading level0 row0\" >1</th>\n                        <td id=\"T_fdbd1_row0_col0\" class=\"data row0 col0\" >Skl GBM</td>\n                        <td id=\"T_fdbd1_row0_col1\" class=\"data row0 col1\" >84.916201</td>\n                        <td id=\"T_fdbd1_row0_col2\" class=\"data row0 col2\" >82.595520</td>\n                        <td id=\"T_fdbd1_row0_col3\" class=\"data row0 col3\" >0.075017</td>\n            </tr>\n            <tr>\n                        <th id=\"T_fdbd1_level0_row1\" class=\"row_heading level0 row1\" >2</th>\n                        <td id=\"T_fdbd1_row1_col0\" class=\"data row1 col0\" >XGBoost</td>\n                        <td id=\"T_fdbd1_row1_col1\" class=\"data row1 col1\" >81.564246</td>\n                        <td id=\"T_fdbd1_row1_col2\" class=\"data row1 col2\" >78.787879</td>\n                        <td id=\"T_fdbd1_row1_col3\" class=\"data row1 col3\" >0.109025</td>\n            </tr>\n            <tr>\n                        <th id=\"T_fdbd1_level0_row2\" class=\"row_heading level0 row2\" >3</th>\n                        <td id=\"T_fdbd1_row2_col0\" class=\"data row2 col0\" >Skl HistGBM</td>\n                        <td id=\"T_fdbd1_row2_col1\" class=\"data row2 col1\" >81.005587</td>\n                        <td id=\"T_fdbd1_row2_col2\" class=\"data row2 col2\" >78.603426</td>\n                        <td id=\"T_fdbd1_row2_col3\" class=\"data row2 col3\" >0.519130</td>\n            </tr>\n            <tr>\n                        <th id=\"T_fdbd1_level0_row3\" class=\"row_heading level0 row3\" >4</th>\n                        <td id=\"T_fdbd1_row3_col0\" class=\"data row3 col0\" >LightGBM</td>\n                        <td id=\"T_fdbd1_row3_col1\" class=\"data row3 col1\" >81.005587</td>\n                        <td id=\"T_fdbd1_row3_col2\" class=\"data row3 col2\" >78.333333</td>\n                        <td id=\"T_fdbd1_row3_col3\" class=\"data row3 col3\" >0.117027</td>\n            </tr>\n            <tr>\n                        <th id=\"T_fdbd1_level0_row4\" class=\"row_heading level0 row4\" >5</th>\n                        <td id=\"T_fdbd1_row4_col0\" class=\"data row4 col0\" >CatBoost</td>\n                        <td id=\"T_fdbd1_row4_col1\" class=\"data row4 col1\" >79.888268</td>\n                        <td id=\"T_fdbd1_row4_col2\" class=\"data row4 col2\" >76.884058</td>\n                        <td id=\"T_fdbd1_row4_col3\" class=\"data row4 col3\" >0.174172</td>\n            </tr>\n            <tr>\n                        <th id=\"T_fdbd1_level0_row5\" class=\"row_heading level0 row5\" >6</th>\n                        <td id=\"T_fdbd1_row5_col0\" class=\"data row5 col0\" >Decision Tree</td>\n                        <td id=\"T_fdbd1_row5_col1\" class=\"data row5 col1\" >78.770950</td>\n                        <td id=\"T_fdbd1_row5_col2\" class=\"data row5 col2\" >76.785244</td>\n                        <td id=\"T_fdbd1_row5_col3\" class=\"data row5 col3\" >0.010003</td>\n            </tr>\n            <tr>\n                        <th id=\"T_fdbd1_level0_row6\" class=\"row_heading level0 row6\" >7</th>\n                        <td id=\"T_fdbd1_row6_col0\" class=\"data row6 col0\" >AdaBoost</td>\n                        <td id=\"T_fdbd1_row6_col1\" class=\"data row6 col1\" >78.770950</td>\n                        <td id=\"T_fdbd1_row6_col2\" class=\"data row6 col2\" >76.785244</td>\n                        <td id=\"T_fdbd1_row6_col3\" class=\"data row6 col3\" >0.106024</td>\n            </tr>\n            <tr>\n                        <th id=\"T_fdbd1_level0_row7\" class=\"row_heading level0 row7\" >8</th>\n                        <td id=\"T_fdbd1_row7_col0\" class=\"data row7 col0\" >Random Forest</td>\n                        <td id=\"T_fdbd1_row7_col1\" class=\"data row7 col1\" >78.212291</td>\n                        <td id=\"T_fdbd1_row7_col2\" class=\"data row7 col2\" >75.520422</td>\n                        <td id=\"T_fdbd1_row7_col3\" class=\"data row7 col3\" >0.116026</td>\n            </tr>\n            <tr>\n                        <th id=\"T_fdbd1_level0_row8\" class=\"row_heading level0 row8\" >9</th>\n                        <td id=\"T_fdbd1_row8_col0\" class=\"data row8 col0\" >Extra Trees</td>\n                        <td id=\"T_fdbd1_row8_col1\" class=\"data row8 col1\" >75.977654</td>\n                        <td id=\"T_fdbd1_row8_col2\" class=\"data row8 col2\" >73.432148</td>\n                        <td id=\"T_fdbd1_row8_col3\" class=\"data row8 col3\" >0.018014</td>\n            </tr>\n    </tbody></table>"
     },
     "execution_count": 105,
     "metadata": {},
     "output_type": "execute_result"
    }
   ],
   "source": [
    "\n",
    "x_train, x_val, y_train, y_val = model_selection.train_test_split(x, y, stratify= y, test_size=0.2, random_state=0)\n",
    "\n",
    "results = pd.DataFrame({'Model': [], 'Accuracy': [], 'Bal Acc.': [], 'Time': []})\n",
    "\n",
    "\n",
    "for model_name, model in tree_classifiers.items():\n",
    "    start_time = time.time()\n",
    "    \n",
    "    # FOR EVERY PIPELINE (PREPRO + MODEL) -> TRAIN WITH TRAIN DATA (x_train)\n",
    "\n",
    "    model.fit(x_train, y_train)\n",
    "    # GET PREDICTIONS USING x_val\n",
    "    pred = model.predict(x_val)\n",
    "\n",
    "    total_time = time.time() - start_time\n",
    "\n",
    "    results = results.append({\"Model\":    model_name,\n",
    "                              \"Accuracy\": metrics.accuracy_score(y_val, pred)*100,\n",
    "                              \"Bal Acc.\": metrics.balanced_accuracy_score(y_val, pred)*100,\n",
    "                              \"Time\":     total_time},\n",
    "                              ignore_index=True)\n",
    "\n",
    "results_ord = results.sort_values(by=['Accuracy'], ascending=False, ignore_index=True)\n",
    "results_ord.index += 1 \n",
    "results_ord.style.bar(subset=['Accuracy', 'Bal Acc.'], vmin=0, vmax=100, color='#5fba7d')"
   ]
  },
  {
   "cell_type": "code",
   "execution_count": 103,
   "metadata": {
    "nbgrader": {
     "grade": true,
     "grade_id": "cell-af27b33fe88ad384",
     "locked": true,
     "points": 3,
     "schema_version": 3,
     "solution": false,
     "task": false
    }
   },
   "outputs": [],
   "source": [
    "assert results_ord[\"Accuracy\"].min() > 75\n",
    "assert results_ord[\"Bal Acc.\"].min() > 70\n",
    "assert len(results_ord) == 9"
   ]
  },
  {
   "cell_type": "markdown",
   "metadata": {},
   "source": [
    "# Exercise 6 (3pts):\n",
    "Define a 10 Fold cross validation strategy with:\n",
    "- With stratification\n",
    "- shuffle=True\n",
    "- random_state=0\n",
    "\n",
    "And train all the models in a for loop.\n",
    "\n",
    "Tip you can use **[cross_val_predict](https://scikit-learn.org/stable/modules/generated/sklearn.model_selection.cross_val_predict.html)** for both training and predict with "
   ]
  },
  {
   "cell_type": "code",
   "execution_count": null,
   "metadata": {
    "nbgrader": {
     "grade": false,
     "grade_id": "cell-37bf16dc25b43732",
     "locked": false,
     "schema_version": 3,
     "solution": true,
     "task": false
    },
    "scrolled": true,
    "tags": [
     "outputPrepend"
    ]
   },
   "outputs": [],
   "source": [
    "\"\"\"\n",
    "skf = model_selection.StratifiedKFold(\n",
    "    # CODE HERE\n",
    ")\n",
    "\"\"\"\n",
    "\n",
    "\n",
    "\n",
    "results = pd.DataFrame({'Model': [], 'Accuracy': [], 'Bal Acc.': [], 'Time': []})\n",
    "\n",
    "\"\"\"\n",
    "for model_name, model in tree_classifiers.items():\n",
    "    start_time = time.time()\n",
    "        \n",
    "    # TRAIN AND GET PREDICTIONS USING cross_val_predict() and x,y\n",
    "    pred = # CODE HERE\n",
    "\n",
    "    total_time = time.time() - start_time\n",
    "\n",
    "    results = results.append({\"Model\":    model_name,\n",
    "                              \"Accuracy\": metrics.accuracy_score(y_val, pred)*100,\n",
    "                              \"Bal Acc.\": metrics.balanced_accuracy_score(y_val, pred)*100,\n",
    "                              \"Time\":     total_time},\n",
    "                              ignore_index=True)\n",
    "                              \n",
    "                              \n",
    "\"\"\"\n",
    "\n",
    "\n",
    "results_ord = results.sort_values(by=['Accuracy'], ascending=False, ignore_index=True)\n",
    "results_ord.index += 1 \n",
    "results_ord.style.bar(subset=['Accuracy', 'Bal Acc.'], vmin=0, vmax=100, color='#5fba7d')"
   ]
  },
  {
   "cell_type": "code",
   "execution_count": null,
   "metadata": {
    "nbgrader": {
     "grade": true,
     "grade_id": "cell-57cc085faad513cf",
     "locked": true,
     "points": 3,
     "schema_version": 3,
     "solution": false,
     "task": false
    }
   },
   "outputs": [],
   "source": [
    "assert results_ord[\"Accuracy\"].min() > 75\n",
    "assert results_ord[\"Bal Acc.\"].min() > 75\n",
    "assert len(results_ord) == 9"
   ]
  },
  {
   "cell_type": "markdown",
   "metadata": {},
   "source": [
    "# Exercise 7.1\n",
    "Train with all data the best model"
   ]
  },
  {
   "cell_type": "code",
   "execution_count": null,
   "metadata": {
    "colab": {},
    "colab_type": "code",
    "id": "monuuQhHL7B_"
   },
   "outputs": [],
   "source": [
    "# best_model = tree_classifiers[\"SELECT MY BEST MODEL HERE\"]\n",
    "\n",
    "# Fit best model with all data\n",
    "\n"
   ]
  },
  {
   "cell_type": "markdown",
   "metadata": {},
   "source": [
    "# Exercise 7.2 (2pts)\n",
    "With your best model, generate the predicitions for test data (x_test)"
   ]
  },
  {
   "cell_type": "code",
   "execution_count": null,
   "metadata": {
    "nbgrader": {
     "grade": false,
     "grade_id": "cell-44b93a0dbd4eb6fc",
     "locked": false,
     "schema_version": 3,
     "solution": true,
     "task": false
    }
   },
   "outputs": [],
   "source": [
    "# test_pred = # Get the predictions for x_test\n",
    "\n"
   ]
  },
  {
   "cell_type": "code",
   "execution_count": null,
   "metadata": {
    "nbgrader": {
     "grade": true,
     "grade_id": "cell-a29fc8d24284520e",
     "locked": true,
     "points": 2,
     "schema_version": 3,
     "solution": false,
     "task": false
    }
   },
   "outputs": [],
   "source": [
    "assert len(test_pred) == 418\n",
    "assert np.unique(test_pred).tolist() == [0,1]"
   ]
  },
  {
   "cell_type": "markdown",
   "metadata": {},
   "source": [
    "# Exercise 7.3\n",
    "\n",
    "Submit to kaggle.\n",
    "\n",
    "- You can use the kaggle command line app. Check https://github.com/Kaggle/kaggle-api"
   ]
  },
  {
   "cell_type": "code",
   "execution_count": null,
   "metadata": {},
   "outputs": [],
   "source": [
    "\"\"\"sub = pd.DataFrame(test_pred, index=x_test.index, columns=[\"Survived\"])\n",
    "sub.head()\"\"\""
   ]
  },
  {
   "cell_type": "code",
   "execution_count": null,
   "metadata": {},
   "outputs": [],
   "source": [
    "'''sub.to_csv(\"sub.csv\")'''"
   ]
  },
  {
   "cell_type": "code",
   "execution_count": null,
   "metadata": {},
   "outputs": [],
   "source": [
    "!kaggle competitions submit -c titanic -f sub.csv -m \"My submission message\""
   ]
  }
 ],
 "metadata": {
  "anaconda-cloud": {},
  "celltoolbar": "Create Assignment",
  "colab": {
   "collapsed_sections": [],
   "name": "Titanic LogReg.ipynb",
   "provenance": []
  },
  "interpreter": {
   "hash": "c2ad988b83bc3032ab0bc6c9b326315d9b3145f093b7c28f6f9e14e1089dbd73"
  },
  "kernelspec": {
   "display_name": "Python 3.8.10 64-bit ('NLP': conda)",
   "name": "python3"
  },
  "language_info": {
   "codemirror_mode": {
    "name": "ipython",
    "version": 3
   },
   "file_extension": ".py",
   "mimetype": "text/x-python",
   "name": "python",
   "nbconvert_exporter": "python",
   "pygments_lexer": "ipython3",
   "version": "3.8.10"
  },
  "name": "seminar13_optional_practice_trees_titanic.ipynb"
 },
 "nbformat": 4,
 "nbformat_minor": 4
}