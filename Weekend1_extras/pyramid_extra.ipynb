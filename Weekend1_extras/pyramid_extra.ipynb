{
 "cells": [
  {
   "cell_type": "code",
   "execution_count": 5,
   "metadata": {
    "collapsed": true
   },
   "outputs": [
    {
     "name": "stdout",
     "output_type": "stream",
     "text": [
      "####\n",
      "####\n",
      "####\n",
      "####\n"
     ]
    }
   ],
   "source": [
    "def hashtags(n):\n",
    "    for i in range(n):\n",
    "        print(f'#'* n, sep='')\n",
    "    return\n",
    "\n",
    "hashtags(4)"
   ]
  },
  {
   "cell_type": "code",
   "execution_count": 8,
   "outputs": [
    {
     "name": "stdout",
     "output_type": "stream",
     "text": [
      "####\n",
      "####\n",
      "####\n",
      "####\n"
     ]
    }
   ],
   "source": [
    "def hashtags_nest(n):\n",
    "    for i in range(n):\n",
    "        for k in range(n):\n",
    "            print(f'#', end='')\n",
    "    return\n",
    "\n",
    "hashtags(4)"
   ],
   "metadata": {
    "collapsed": false,
    "pycharm": {
     "name": "#%%\n"
    }
   }
  }
 ],
 "metadata": {
  "kernelspec": {
   "display_name": "Python 3",
   "language": "python",
   "name": "python3"
  },
  "language_info": {
   "codemirror_mode": {
    "name": "ipython",
    "version": 2
   },
   "file_extension": ".py",
   "mimetype": "text/x-python",
   "name": "python",
   "nbconvert_exporter": "python",
   "pygments_lexer": "ipython2",
   "version": "2.7.6"
  }
 },
 "nbformat": 4,
 "nbformat_minor": 0
}