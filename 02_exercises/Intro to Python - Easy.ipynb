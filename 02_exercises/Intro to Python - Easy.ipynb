{
 "cells": [
  {
   "cell_type": "markdown",
   "metadata": {},
   "source": [
    "Here you have a collection of guided exercises for the first class on Python. <br>\n",
    "The exercises are divided by topic, following the topics reviewed during the theory session, and for each topic you have some mandatory exercises, and other optional exercises, which you are invited to do if you still have time after the mandatory exercises. <br>\n",
    "\n",
    "Remember that you have 5 hours to solve these exercises, after which we will review the most interesting exercises together. If you don't finish all the exercises, you can work on them tonightor tomorrow. \n",
    "\n",
    "At the end of the class, we will upload the code with the solutions of the exercises so that you can review them again if needed. If you still have not finished some exercises, try to do them first by yourself, before taking a look at the solutions: you are doing these exercises for yourself, so it is always the best to do them your way first, as it is the fastest way to learn!"
   ]
  },
  {
   "cell_type": "markdown",
   "metadata": {},
   "source": [
    "**Exercise 1.1:** The cover price of a book is 24.95 EUR, but bookstores get a 40 percent discount. Shipping costs 3 EUR for the first copy and 75 cents for each additional copy. **Calculate the total wholesale costs for 60 copies**. "
   ]
  },
  {
   "cell_type": "code",
   "execution_count": 4,
   "metadata": {},
   "outputs": [
    {
     "name": "stdout",
     "output_type": "stream",
     "text": [
      "945.45\n"
     ]
    }
   ],
   "source": [
    "#Your Code Here\n",
    "#First, define the know variables\n",
    "order_count = 60\n",
    "cover_price = 24.95\n",
    "discount = 0.4\n",
    "shipping = 3 + (order_count - 1) * 0.75\n",
    "#Calculate the total order price\n",
    "total_order_cost = order_count * cover_price * (1 - discount) + shipping\n",
    "#round the result for 2 decimals\n",
    "total_order_cost = round(total_order_cost, 2)\n",
    "#print the result\n",
    "print(total_order_cost)"
   ]
  },
  {
   "cell_type": "markdown",
   "metadata": {},
   "source": [
    "**Exercise 1.2:** When something is wrong with your code, Python will raise errors. Often these will be \"syntax errors\" that signal that something is wrong with the form of your code (e.g., the code in the previous exercise raised a `SyntaxError`). There are also \"runtime errors\", which signal that your code was in itself formally correct, but that something went wrong during the code's execution. A good example is the `ZeroDivisionError`, which indicates that you tried to divide a number by zero (which, as you may know, is not allowed). Try to make Python **raise such a `ZeroDivisionError`.**"
   ]
  },
  {
   "cell_type": "code",
   "execution_count": 9,
   "metadata": {},
   "outputs": [
    {
     "name": "stdout",
     "output_type": "stream",
     "text": [
      "(6.123233995736766e-17+1j)\n"
     ]
    },
    {
     "ename": "ZeroDivisionError",
     "evalue": "complex division by zero",
     "output_type": "error",
     "traceback": [
      "\u001B[1;31m---------------------------------------------------------------------------\u001B[0m",
      "\u001B[1;31mZeroDivisionError\u001B[0m                         Traceback (most recent call last)",
      "\u001B[1;32m~\\AppData\\Local\\Temp/ipykernel_684/1616052300.py\u001B[0m in \u001B[0;36m<module>\u001B[1;34m\u001B[0m\n\u001B[0;32m      4\u001B[0m \u001B[1;31m#Apparently, imaginary numbers are easily handled, nice.\u001B[0m\u001B[1;33m\u001B[0m\u001B[1;33m\u001B[0m\u001B[0m\n\u001B[0;32m      5\u001B[0m \u001B[1;33m\u001B[0m\u001B[0m\n\u001B[1;32m----> 6\u001B[1;33m \u001B[0merror\u001B[0m \u001B[1;33m=\u001B[0m \u001B[0mi\u001B[0m \u001B[1;33m/\u001B[0m \u001B[1;36m0\u001B[0m\u001B[1;33m\u001B[0m\u001B[1;33m\u001B[0m\u001B[0m\n\u001B[0m\u001B[0;32m      7\u001B[0m \u001B[1;33m\u001B[0m\u001B[0m\n",
      "\u001B[1;31mZeroDivisionError\u001B[0m: complex division by zero"
     ]
    }
   ],
   "source": [
    "#Your Code Here\n",
    "i = pow(-1,0.5)\n",
    "print(i)\n",
    "#Apparently, imaginary numbers are easily handled, nice.\n",
    "\n",
    "error = i / 0\n"
   ]
  },
  {
   "cell_type": "markdown",
   "metadata": {},
   "source": [
    "**Exercise 5.1**: Create a countdown function that starts at a certain count, and counts down to zero. Instead of zero, print \"Blast off!\". Use a `for` loop. \n"
   ]
  },
  {
   "cell_type": "code",
   "execution_count": 26,
   "metadata": {},
   "outputs": [
    {
     "name": "stdout",
     "output_type": "stream",
     "text": [
      "12\n",
      "11\n",
      "10\n",
      "9\n",
      "8\n",
      "7\n",
      "6\n",
      "5\n",
      "4\n",
      "3\n",
      "2\n",
      "1\n",
      "Blast off!\n"
     ]
    }
   ],
   "source": [
    "# Countdown\n",
    "def countdown(number):\n",
    "#Define range with number, counting down to 0.\n",
    "    for i in range(number, 0, -1):\n",
    "    #Print the number, and if it reaches the last digit (1), print Blast off!\n",
    "        print(i)\n",
    "        if i == 1:\n",
    "            print(\"Blast off!\")\n",
    "            return\n",
    "countdown(12)"
   ]
  },
  {
   "cell_type": "markdown",
   "metadata": {},
   "source": [
    "**Exercise 5.2:** Write and test three functions that return the largest, the smallest, and the number of dividables by 3 in a given collection of numbers. Use the algorithm described earlier in the Part 5 lecture :)"
   ]
  },
  {
   "cell_type": "code",
   "execution_count": 65,
   "metadata": {},
   "outputs": [
    {
     "name": "stdout",
     "output_type": "stream",
     "text": [
      "100\n",
      "2\n",
      "4\n"
     ]
    }
   ],
   "source": [
    "# Your functions\n",
    "def largest(numbers):\n",
    "    #set value x which we will use to store the current largest number\n",
    "    x = 0\n",
    "    for i in numbers:\n",
    "        #set value x to the first number of the parameter numbers\n",
    "        if x == 0:\n",
    "            x = i\n",
    "        #check x against every other item of the given list, and set the item as the new x if conditions are met\n",
    "        if i > x:\n",
    "            x = i\n",
    "    print(x)\n",
    "    return\n",
    "\n",
    "def smallest(numbers):\n",
    "    #set value x which we will use to store the current smallest number\n",
    "    x = 0\n",
    "    for i in numbers:\n",
    "        #set value x to the first number of the parameter numbers\n",
    "        if x == 0:\n",
    "            x = i\n",
    "        #check x against every other item of the given list, and set the item as the new x if conditions are met\n",
    "        if i < x:\n",
    "            x = i\n",
    "    print(x)\n",
    "    return\n",
    "\n",
    "def dividables3(numbers):\n",
    "    count = 0\n",
    "    for i in numbers:\n",
    "        if i % 3 == 0:\n",
    "            count += 1\n",
    "    print(count)\n",
    "    return\n",
    "def main():\n",
    "    \"\"\"\n",
    "    a = [2, 4, 6, 12, 15, 99, 100]\n",
    "    100\n",
    "    2\n",
    "    4\n",
    "    \"\"\"\n",
    "    a = [2, 4, 6, 12, 15, 99, 100]\n",
    "    largest(a)\n",
    "    smallest(a)\n",
    "    dividables3(a)\n",
    "    return\n",
    "\n",
    "main()"
   ]
  }
 ],
 "metadata": {
  "kernelspec": {
   "display_name": "Python 3",
   "language": "python",
   "name": "python3"
  },
  "language_info": {
   "codemirror_mode": {
    "name": "ipython",
    "version": 3
   },
   "file_extension": ".py",
   "mimetype": "text/x-python",
   "name": "python",
   "nbconvert_exporter": "python",
   "pygments_lexer": "ipython3",
   "version": "3.8.3"
  }
 },
 "nbformat": 4,
 "nbformat_minor": 4
}