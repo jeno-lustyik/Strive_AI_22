{
 "cells": [
  {
   "cell_type": "markdown",
   "source": [
    "**Exercise 5.2:** Write and test three functions that return the largest, the smallest, and the number of dividables by 3 in a given collection of numbers. Use the algorithm described earlier in the Part 5 lecture :)"
   ],
   "metadata": {
    "collapsed": false
   }
  },
  {
   "cell_type": "code",
   "execution_count": 65,
   "outputs": [
    {
     "name": "stdout",
     "output_type": "stream",
     "text": [
      "100\n",
      "2\n",
      "4\n"
     ]
    }
   ],
   "source": [
    "# Your functions\n",
    "def largest(numbers):\n",
    "    #set value x which we will use to store the current largest number\n",
    "    x = 0\n",
    "    for i in numbers:\n",
    "        #set value x to the first number of the parameter numbers\n",
    "        if x == 0:\n",
    "            x = i\n",
    "        #check x against every other item of the given list, and set the item as the new x if conditions are met\n",
    "        if i > x:\n",
    "            x = i\n",
    "    print(x)\n",
    "    return\n",
    "\n",
    "def smallest(numbers):\n",
    "    #set value x which we will use to store the current smallest number\n",
    "    x = 0\n",
    "    for i in numbers:\n",
    "        #set value x to the first number of the parameter numbers\n",
    "        if x == 0:\n",
    "            x = i\n",
    "        #check x against every other item of the given list, and set the item as the new x if conditions are met\n",
    "        if i < x:\n",
    "            x = i\n",
    "    print(x)\n",
    "    return\n",
    "\n",
    "def dividables3(numbers):\n",
    "    count = 0\n",
    "    for i in numbers:\n",
    "        if i % 3 == 0:\n",
    "            count += 1\n",
    "    print(count)\n",
    "    return\n",
    "def main():\n",
    "    \"\"\"\n",
    "    a = [2, 4, 6, 12, 15, 99, 100]\n",
    "    100\n",
    "    2\n",
    "    4\n",
    "    \"\"\"\n",
    "    a = [2, 4, 6, 12, 15, 99, 100]\n",
    "    largest(a)\n",
    "    smallest(a)\n",
    "    dividables3(a)\n",
    "    return\n",
    "\n",
    "main()"
   ],
   "metadata": {
    "collapsed": false,
    "pycharm": {
     "name": "#%%\n"
    }
   }
  }
 ],
 "metadata": {
  "kernelspec": {
   "display_name": "Python 3",
   "language": "python",
   "name": "python3"
  },
  "language_info": {
   "codemirror_mode": {
    "name": "ipython",
    "version": 2
   },
   "file_extension": ".py",
   "mimetype": "text/x-python",
   "name": "python",
   "nbconvert_exporter": "python",
   "pygments_lexer": "ipython2",
   "version": "2.7.6"
  }
 },
 "nbformat": 4,
 "nbformat_minor": 0
}