{
 "cells": [
  {
   "cell_type": "code",
   "execution_count": 1,
   "metadata": {
    "collapsed": true
   },
   "outputs": [],
   "source": [
    "%matplotlib inline\n",
    "%config InlineBackend.figure_format = 'retina'\n",
    "\n",
    "import matplotlib.pyplot as plt\n",
    "from statistics import mean\n",
    "import torch\n",
    "from torch import nn\n",
    "from torch import optim\n",
    "import torch.nn.functional as F\n",
    "from torchvision import datasets, transforms, models\n",
    "import os\n",
    "from torch.utils.data import DataLoader"
   ]
  },
  {
   "cell_type": "code",
   "execution_count": 2,
   "outputs": [],
   "source": [
    "base_path = '../../../../datasets/landscapes'\n",
    "data_dir = datasets.ImageFolder(base_path)\n",
    "\n",
    "train_transforms = transforms.Compose([transforms.Resize((224, 224)),\n",
    "                                       transforms.RandomRotation(30),\n",
    "                                       transforms.RandomHorizontalFlip(),\n",
    "                                       transforms.ToTensor(),\n",
    "                                       transforms.Normalize(mean= [0.485, 0.456, 0.406],\n",
    "                                                            std= [0.229, 0.224, 0.225])])\n",
    "\n",
    "test_transforms = transforms.Compose([transforms.Resize((224, 224)),\n",
    "                                       transforms.ToTensor(),\n",
    "                                       transforms.Normalize(mean= [0.485, 0.456, 0.406],\n",
    "                                                            std= [0.229, 0.224, 0.225])])\n",
    "\n",
    "\n",
    "train_data = datasets.ImageFolder(os.path.join(base_path, 'train'), transform=train_transforms)\n",
    "test_data = datasets.ImageFolder(os.path.join(base_path, 'test'), transform=train_transforms)\n",
    "\n",
    "trainloader = DataLoader(train_data, batch_size=64, shuffle=True)\n",
    "testloader = DataLoader(test_data, batch_size=64, shuffle=False)"
   ],
   "metadata": {
    "collapsed": false,
    "pycharm": {
     "name": "#%%\n"
    }
   }
  },
  {
   "cell_type": "code",
   "execution_count": 3,
   "outputs": [],
   "source": [
    "import time\n",
    "device = torch.device(\"cuda:0\" if torch.cuda.is_available() else \"cpu\")"
   ],
   "metadata": {
    "collapsed": false,
    "pycharm": {
     "name": "#%%\n"
    }
   }
  },
  {
   "cell_type": "code",
   "execution_count": 4,
   "outputs": [],
   "source": [
    "model = models.googlenet(pretrained=True)"
   ],
   "metadata": {
    "collapsed": false,
    "pycharm": {
     "name": "#%%\n"
    }
   }
  },
  {
   "cell_type": "code",
   "execution_count": 5,
   "outputs": [],
   "source": [
    "for param in model.parameters():\n",
    "    param.requires_grad = False\n",
    "\n",
    "from _collections import OrderedDict\n",
    "\n",
    "classifier = nn.Sequential(OrderedDict([\n",
    "    ('lin1', nn.Linear(1024, 256)),\n",
    "    ('relu1', nn.ReLU()),\n",
    "    # ('dp', nn.Dropout(p=0.2)),\n",
    "    ('lin2', nn.Linear(256, 6)),\n",
    "    ('log_softmax', nn.LogSoftmax(dim=1))]))\n",
    "\n",
    "model.fc = classifier"
   ],
   "metadata": {
    "collapsed": false,
    "pycharm": {
     "name": "#%%\n"
    }
   }
  },
  {
   "cell_type": "code",
   "execution_count": 6,
   "outputs": [
    {
     "data": {
      "text/plain": "GoogLeNet(\n  (conv1): BasicConv2d(\n    (conv): Conv2d(3, 64, kernel_size=(7, 7), stride=(2, 2), padding=(3, 3), bias=False)\n    (bn): BatchNorm2d(64, eps=0.001, momentum=0.1, affine=True, track_running_stats=True)\n  )\n  (maxpool1): MaxPool2d(kernel_size=3, stride=2, padding=0, dilation=1, ceil_mode=True)\n  (conv2): BasicConv2d(\n    (conv): Conv2d(64, 64, kernel_size=(1, 1), stride=(1, 1), bias=False)\n    (bn): BatchNorm2d(64, eps=0.001, momentum=0.1, affine=True, track_running_stats=True)\n  )\n  (conv3): BasicConv2d(\n    (conv): Conv2d(64, 192, kernel_size=(3, 3), stride=(1, 1), padding=(1, 1), bias=False)\n    (bn): BatchNorm2d(192, eps=0.001, momentum=0.1, affine=True, track_running_stats=True)\n  )\n  (maxpool2): MaxPool2d(kernel_size=3, stride=2, padding=0, dilation=1, ceil_mode=True)\n  (inception3a): Inception(\n    (branch1): BasicConv2d(\n      (conv): Conv2d(192, 64, kernel_size=(1, 1), stride=(1, 1), bias=False)\n      (bn): BatchNorm2d(64, eps=0.001, momentum=0.1, affine=True, track_running_stats=True)\n    )\n    (branch2): Sequential(\n      (0): BasicConv2d(\n        (conv): Conv2d(192, 96, kernel_size=(1, 1), stride=(1, 1), bias=False)\n        (bn): BatchNorm2d(96, eps=0.001, momentum=0.1, affine=True, track_running_stats=True)\n      )\n      (1): BasicConv2d(\n        (conv): Conv2d(96, 128, kernel_size=(3, 3), stride=(1, 1), padding=(1, 1), bias=False)\n        (bn): BatchNorm2d(128, eps=0.001, momentum=0.1, affine=True, track_running_stats=True)\n      )\n    )\n    (branch3): Sequential(\n      (0): BasicConv2d(\n        (conv): Conv2d(192, 16, kernel_size=(1, 1), stride=(1, 1), bias=False)\n        (bn): BatchNorm2d(16, eps=0.001, momentum=0.1, affine=True, track_running_stats=True)\n      )\n      (1): BasicConv2d(\n        (conv): Conv2d(16, 32, kernel_size=(3, 3), stride=(1, 1), padding=(1, 1), bias=False)\n        (bn): BatchNorm2d(32, eps=0.001, momentum=0.1, affine=True, track_running_stats=True)\n      )\n    )\n    (branch4): Sequential(\n      (0): MaxPool2d(kernel_size=3, stride=1, padding=1, dilation=1, ceil_mode=True)\n      (1): BasicConv2d(\n        (conv): Conv2d(192, 32, kernel_size=(1, 1), stride=(1, 1), bias=False)\n        (bn): BatchNorm2d(32, eps=0.001, momentum=0.1, affine=True, track_running_stats=True)\n      )\n    )\n  )\n  (inception3b): Inception(\n    (branch1): BasicConv2d(\n      (conv): Conv2d(256, 128, kernel_size=(1, 1), stride=(1, 1), bias=False)\n      (bn): BatchNorm2d(128, eps=0.001, momentum=0.1, affine=True, track_running_stats=True)\n    )\n    (branch2): Sequential(\n      (0): BasicConv2d(\n        (conv): Conv2d(256, 128, kernel_size=(1, 1), stride=(1, 1), bias=False)\n        (bn): BatchNorm2d(128, eps=0.001, momentum=0.1, affine=True, track_running_stats=True)\n      )\n      (1): BasicConv2d(\n        (conv): Conv2d(128, 192, kernel_size=(3, 3), stride=(1, 1), padding=(1, 1), bias=False)\n        (bn): BatchNorm2d(192, eps=0.001, momentum=0.1, affine=True, track_running_stats=True)\n      )\n    )\n    (branch3): Sequential(\n      (0): BasicConv2d(\n        (conv): Conv2d(256, 32, kernel_size=(1, 1), stride=(1, 1), bias=False)\n        (bn): BatchNorm2d(32, eps=0.001, momentum=0.1, affine=True, track_running_stats=True)\n      )\n      (1): BasicConv2d(\n        (conv): Conv2d(32, 96, kernel_size=(3, 3), stride=(1, 1), padding=(1, 1), bias=False)\n        (bn): BatchNorm2d(96, eps=0.001, momentum=0.1, affine=True, track_running_stats=True)\n      )\n    )\n    (branch4): Sequential(\n      (0): MaxPool2d(kernel_size=3, stride=1, padding=1, dilation=1, ceil_mode=True)\n      (1): BasicConv2d(\n        (conv): Conv2d(256, 64, kernel_size=(1, 1), stride=(1, 1), bias=False)\n        (bn): BatchNorm2d(64, eps=0.001, momentum=0.1, affine=True, track_running_stats=True)\n      )\n    )\n  )\n  (maxpool3): MaxPool2d(kernel_size=3, stride=2, padding=0, dilation=1, ceil_mode=True)\n  (inception4a): Inception(\n    (branch1): BasicConv2d(\n      (conv): Conv2d(480, 192, kernel_size=(1, 1), stride=(1, 1), bias=False)\n      (bn): BatchNorm2d(192, eps=0.001, momentum=0.1, affine=True, track_running_stats=True)\n    )\n    (branch2): Sequential(\n      (0): BasicConv2d(\n        (conv): Conv2d(480, 96, kernel_size=(1, 1), stride=(1, 1), bias=False)\n        (bn): BatchNorm2d(96, eps=0.001, momentum=0.1, affine=True, track_running_stats=True)\n      )\n      (1): BasicConv2d(\n        (conv): Conv2d(96, 208, kernel_size=(3, 3), stride=(1, 1), padding=(1, 1), bias=False)\n        (bn): BatchNorm2d(208, eps=0.001, momentum=0.1, affine=True, track_running_stats=True)\n      )\n    )\n    (branch3): Sequential(\n      (0): BasicConv2d(\n        (conv): Conv2d(480, 16, kernel_size=(1, 1), stride=(1, 1), bias=False)\n        (bn): BatchNorm2d(16, eps=0.001, momentum=0.1, affine=True, track_running_stats=True)\n      )\n      (1): BasicConv2d(\n        (conv): Conv2d(16, 48, kernel_size=(3, 3), stride=(1, 1), padding=(1, 1), bias=False)\n        (bn): BatchNorm2d(48, eps=0.001, momentum=0.1, affine=True, track_running_stats=True)\n      )\n    )\n    (branch4): Sequential(\n      (0): MaxPool2d(kernel_size=3, stride=1, padding=1, dilation=1, ceil_mode=True)\n      (1): BasicConv2d(\n        (conv): Conv2d(480, 64, kernel_size=(1, 1), stride=(1, 1), bias=False)\n        (bn): BatchNorm2d(64, eps=0.001, momentum=0.1, affine=True, track_running_stats=True)\n      )\n    )\n  )\n  (inception4b): Inception(\n    (branch1): BasicConv2d(\n      (conv): Conv2d(512, 160, kernel_size=(1, 1), stride=(1, 1), bias=False)\n      (bn): BatchNorm2d(160, eps=0.001, momentum=0.1, affine=True, track_running_stats=True)\n    )\n    (branch2): Sequential(\n      (0): BasicConv2d(\n        (conv): Conv2d(512, 112, kernel_size=(1, 1), stride=(1, 1), bias=False)\n        (bn): BatchNorm2d(112, eps=0.001, momentum=0.1, affine=True, track_running_stats=True)\n      )\n      (1): BasicConv2d(\n        (conv): Conv2d(112, 224, kernel_size=(3, 3), stride=(1, 1), padding=(1, 1), bias=False)\n        (bn): BatchNorm2d(224, eps=0.001, momentum=0.1, affine=True, track_running_stats=True)\n      )\n    )\n    (branch3): Sequential(\n      (0): BasicConv2d(\n        (conv): Conv2d(512, 24, kernel_size=(1, 1), stride=(1, 1), bias=False)\n        (bn): BatchNorm2d(24, eps=0.001, momentum=0.1, affine=True, track_running_stats=True)\n      )\n      (1): BasicConv2d(\n        (conv): Conv2d(24, 64, kernel_size=(3, 3), stride=(1, 1), padding=(1, 1), bias=False)\n        (bn): BatchNorm2d(64, eps=0.001, momentum=0.1, affine=True, track_running_stats=True)\n      )\n    )\n    (branch4): Sequential(\n      (0): MaxPool2d(kernel_size=3, stride=1, padding=1, dilation=1, ceil_mode=True)\n      (1): BasicConv2d(\n        (conv): Conv2d(512, 64, kernel_size=(1, 1), stride=(1, 1), bias=False)\n        (bn): BatchNorm2d(64, eps=0.001, momentum=0.1, affine=True, track_running_stats=True)\n      )\n    )\n  )\n  (inception4c): Inception(\n    (branch1): BasicConv2d(\n      (conv): Conv2d(512, 128, kernel_size=(1, 1), stride=(1, 1), bias=False)\n      (bn): BatchNorm2d(128, eps=0.001, momentum=0.1, affine=True, track_running_stats=True)\n    )\n    (branch2): Sequential(\n      (0): BasicConv2d(\n        (conv): Conv2d(512, 128, kernel_size=(1, 1), stride=(1, 1), bias=False)\n        (bn): BatchNorm2d(128, eps=0.001, momentum=0.1, affine=True, track_running_stats=True)\n      )\n      (1): BasicConv2d(\n        (conv): Conv2d(128, 256, kernel_size=(3, 3), stride=(1, 1), padding=(1, 1), bias=False)\n        (bn): BatchNorm2d(256, eps=0.001, momentum=0.1, affine=True, track_running_stats=True)\n      )\n    )\n    (branch3): Sequential(\n      (0): BasicConv2d(\n        (conv): Conv2d(512, 24, kernel_size=(1, 1), stride=(1, 1), bias=False)\n        (bn): BatchNorm2d(24, eps=0.001, momentum=0.1, affine=True, track_running_stats=True)\n      )\n      (1): BasicConv2d(\n        (conv): Conv2d(24, 64, kernel_size=(3, 3), stride=(1, 1), padding=(1, 1), bias=False)\n        (bn): BatchNorm2d(64, eps=0.001, momentum=0.1, affine=True, track_running_stats=True)\n      )\n    )\n    (branch4): Sequential(\n      (0): MaxPool2d(kernel_size=3, stride=1, padding=1, dilation=1, ceil_mode=True)\n      (1): BasicConv2d(\n        (conv): Conv2d(512, 64, kernel_size=(1, 1), stride=(1, 1), bias=False)\n        (bn): BatchNorm2d(64, eps=0.001, momentum=0.1, affine=True, track_running_stats=True)\n      )\n    )\n  )\n  (inception4d): Inception(\n    (branch1): BasicConv2d(\n      (conv): Conv2d(512, 112, kernel_size=(1, 1), stride=(1, 1), bias=False)\n      (bn): BatchNorm2d(112, eps=0.001, momentum=0.1, affine=True, track_running_stats=True)\n    )\n    (branch2): Sequential(\n      (0): BasicConv2d(\n        (conv): Conv2d(512, 144, kernel_size=(1, 1), stride=(1, 1), bias=False)\n        (bn): BatchNorm2d(144, eps=0.001, momentum=0.1, affine=True, track_running_stats=True)\n      )\n      (1): BasicConv2d(\n        (conv): Conv2d(144, 288, kernel_size=(3, 3), stride=(1, 1), padding=(1, 1), bias=False)\n        (bn): BatchNorm2d(288, eps=0.001, momentum=0.1, affine=True, track_running_stats=True)\n      )\n    )\n    (branch3): Sequential(\n      (0): BasicConv2d(\n        (conv): Conv2d(512, 32, kernel_size=(1, 1), stride=(1, 1), bias=False)\n        (bn): BatchNorm2d(32, eps=0.001, momentum=0.1, affine=True, track_running_stats=True)\n      )\n      (1): BasicConv2d(\n        (conv): Conv2d(32, 64, kernel_size=(3, 3), stride=(1, 1), padding=(1, 1), bias=False)\n        (bn): BatchNorm2d(64, eps=0.001, momentum=0.1, affine=True, track_running_stats=True)\n      )\n    )\n    (branch4): Sequential(\n      (0): MaxPool2d(kernel_size=3, stride=1, padding=1, dilation=1, ceil_mode=True)\n      (1): BasicConv2d(\n        (conv): Conv2d(512, 64, kernel_size=(1, 1), stride=(1, 1), bias=False)\n        (bn): BatchNorm2d(64, eps=0.001, momentum=0.1, affine=True, track_running_stats=True)\n      )\n    )\n  )\n  (inception4e): Inception(\n    (branch1): BasicConv2d(\n      (conv): Conv2d(528, 256, kernel_size=(1, 1), stride=(1, 1), bias=False)\n      (bn): BatchNorm2d(256, eps=0.001, momentum=0.1, affine=True, track_running_stats=True)\n    )\n    (branch2): Sequential(\n      (0): BasicConv2d(\n        (conv): Conv2d(528, 160, kernel_size=(1, 1), stride=(1, 1), bias=False)\n        (bn): BatchNorm2d(160, eps=0.001, momentum=0.1, affine=True, track_running_stats=True)\n      )\n      (1): BasicConv2d(\n        (conv): Conv2d(160, 320, kernel_size=(3, 3), stride=(1, 1), padding=(1, 1), bias=False)\n        (bn): BatchNorm2d(320, eps=0.001, momentum=0.1, affine=True, track_running_stats=True)\n      )\n    )\n    (branch3): Sequential(\n      (0): BasicConv2d(\n        (conv): Conv2d(528, 32, kernel_size=(1, 1), stride=(1, 1), bias=False)\n        (bn): BatchNorm2d(32, eps=0.001, momentum=0.1, affine=True, track_running_stats=True)\n      )\n      (1): BasicConv2d(\n        (conv): Conv2d(32, 128, kernel_size=(3, 3), stride=(1, 1), padding=(1, 1), bias=False)\n        (bn): BatchNorm2d(128, eps=0.001, momentum=0.1, affine=True, track_running_stats=True)\n      )\n    )\n    (branch4): Sequential(\n      (0): MaxPool2d(kernel_size=3, stride=1, padding=1, dilation=1, ceil_mode=True)\n      (1): BasicConv2d(\n        (conv): Conv2d(528, 128, kernel_size=(1, 1), stride=(1, 1), bias=False)\n        (bn): BatchNorm2d(128, eps=0.001, momentum=0.1, affine=True, track_running_stats=True)\n      )\n    )\n  )\n  (maxpool4): MaxPool2d(kernel_size=2, stride=2, padding=0, dilation=1, ceil_mode=True)\n  (inception5a): Inception(\n    (branch1): BasicConv2d(\n      (conv): Conv2d(832, 256, kernel_size=(1, 1), stride=(1, 1), bias=False)\n      (bn): BatchNorm2d(256, eps=0.001, momentum=0.1, affine=True, track_running_stats=True)\n    )\n    (branch2): Sequential(\n      (0): BasicConv2d(\n        (conv): Conv2d(832, 160, kernel_size=(1, 1), stride=(1, 1), bias=False)\n        (bn): BatchNorm2d(160, eps=0.001, momentum=0.1, affine=True, track_running_stats=True)\n      )\n      (1): BasicConv2d(\n        (conv): Conv2d(160, 320, kernel_size=(3, 3), stride=(1, 1), padding=(1, 1), bias=False)\n        (bn): BatchNorm2d(320, eps=0.001, momentum=0.1, affine=True, track_running_stats=True)\n      )\n    )\n    (branch3): Sequential(\n      (0): BasicConv2d(\n        (conv): Conv2d(832, 32, kernel_size=(1, 1), stride=(1, 1), bias=False)\n        (bn): BatchNorm2d(32, eps=0.001, momentum=0.1, affine=True, track_running_stats=True)\n      )\n      (1): BasicConv2d(\n        (conv): Conv2d(32, 128, kernel_size=(3, 3), stride=(1, 1), padding=(1, 1), bias=False)\n        (bn): BatchNorm2d(128, eps=0.001, momentum=0.1, affine=True, track_running_stats=True)\n      )\n    )\n    (branch4): Sequential(\n      (0): MaxPool2d(kernel_size=3, stride=1, padding=1, dilation=1, ceil_mode=True)\n      (1): BasicConv2d(\n        (conv): Conv2d(832, 128, kernel_size=(1, 1), stride=(1, 1), bias=False)\n        (bn): BatchNorm2d(128, eps=0.001, momentum=0.1, affine=True, track_running_stats=True)\n      )\n    )\n  )\n  (inception5b): Inception(\n    (branch1): BasicConv2d(\n      (conv): Conv2d(832, 384, kernel_size=(1, 1), stride=(1, 1), bias=False)\n      (bn): BatchNorm2d(384, eps=0.001, momentum=0.1, affine=True, track_running_stats=True)\n    )\n    (branch2): Sequential(\n      (0): BasicConv2d(\n        (conv): Conv2d(832, 192, kernel_size=(1, 1), stride=(1, 1), bias=False)\n        (bn): BatchNorm2d(192, eps=0.001, momentum=0.1, affine=True, track_running_stats=True)\n      )\n      (1): BasicConv2d(\n        (conv): Conv2d(192, 384, kernel_size=(3, 3), stride=(1, 1), padding=(1, 1), bias=False)\n        (bn): BatchNorm2d(384, eps=0.001, momentum=0.1, affine=True, track_running_stats=True)\n      )\n    )\n    (branch3): Sequential(\n      (0): BasicConv2d(\n        (conv): Conv2d(832, 48, kernel_size=(1, 1), stride=(1, 1), bias=False)\n        (bn): BatchNorm2d(48, eps=0.001, momentum=0.1, affine=True, track_running_stats=True)\n      )\n      (1): BasicConv2d(\n        (conv): Conv2d(48, 128, kernel_size=(3, 3), stride=(1, 1), padding=(1, 1), bias=False)\n        (bn): BatchNorm2d(128, eps=0.001, momentum=0.1, affine=True, track_running_stats=True)\n      )\n    )\n    (branch4): Sequential(\n      (0): MaxPool2d(kernel_size=3, stride=1, padding=1, dilation=1, ceil_mode=True)\n      (1): BasicConv2d(\n        (conv): Conv2d(832, 128, kernel_size=(1, 1), stride=(1, 1), bias=False)\n        (bn): BatchNorm2d(128, eps=0.001, momentum=0.1, affine=True, track_running_stats=True)\n      )\n    )\n  )\n  (aux1): None\n  (aux2): None\n  (avgpool): AdaptiveAvgPool2d(output_size=(1, 1))\n  (dropout): Dropout(p=0.2, inplace=False)\n  (fc): Sequential(\n    (lin1): Linear(in_features=1024, out_features=256, bias=True)\n    (relu1): ReLU()\n    (lin2): Linear(in_features=256, out_features=6, bias=True)\n    (log_softmax): LogSoftmax(dim=1)\n  )\n)"
     },
     "execution_count": 6,
     "metadata": {},
     "output_type": "execute_result"
    }
   ],
   "source": [
    "criterion = nn.NLLLoss()\n",
    "optimizer = optim.Adam(model.fc.parameters(), lr=0.0003)\n",
    "model.to(device)"
   ],
   "metadata": {
    "collapsed": false,
    "pycharm": {
     "name": "#%%\n"
    }
   }
  },
  {
   "cell_type": "code",
   "execution_count": 7,
   "outputs": [
    {
     "name": "stdout",
     "output_type": "stream",
     "text": [
      "BasicConv2d(\n",
      "  (conv): Conv2d(3, 64, kernel_size=(7, 7), stride=(2, 2), padding=(3, 3), bias=False)\n",
      "  (bn): BatchNorm2d(64, eps=0.001, momentum=0.1, affine=True, track_running_stats=True)\n",
      ")\n"
     ]
    }
   ],
   "source": [
    "print(model.conv1)"
   ],
   "metadata": {
    "collapsed": false,
    "pycharm": {
     "name": "#%%\n"
    }
   }
  },
  {
   "cell_type": "code",
   "execution_count": 8,
   "outputs": [
    {
     "name": "stdout",
     "output_type": "stream",
     "text": [
      "BasicConv2d(\n",
      "  (conv): Conv2d(832, 384, kernel_size=(1, 1), stride=(1, 1), bias=False)\n",
      "  (bn): BatchNorm2d(384, eps=0.001, momentum=0.1, affine=True, track_running_stats=True)\n",
      ")\n"
     ]
    }
   ],
   "source": [
    "print(model.inception5b.branch1)"
   ],
   "metadata": {
    "collapsed": false,
    "pycharm": {
     "name": "#%%\n"
    }
   }
  },
  {
   "cell_type": "code",
   "execution_count": 9,
   "outputs": [
    {
     "name": "stdout",
     "output_type": "stream",
     "text": [
      "Conv2d(832, 384, kernel_size=(1, 1), stride=(1, 1), bias=False)\n"
     ]
    }
   ],
   "source": [
    "print(model.inception5b.branch1.conv)"
   ],
   "metadata": {
    "collapsed": false,
    "pycharm": {
     "name": "#%%\n"
    }
   }
  },
  {
   "cell_type": "code",
   "execution_count": 10,
   "outputs": [
    {
     "name": "stderr",
     "output_type": "stream",
     "text": [
      "C:\\Users\\lusty\\anaconda3\\envs\\strive2\\lib\\site-packages\\torch\\nn\\functional.py:780: UserWarning: Note that order of the arguments: ceil_mode and return_indices will changeto match the args list in nn.MaxPool2d in a future release.\n",
      "  warnings.warn(\"Note that order of the arguments: ceil_mode and return_indices will change\"\n"
     ]
    },
    {
     "name": "stdout",
     "output_type": "stream",
     "text": [
      "Epoch: 1/10 | Train loss: 0.145 | Test loss: 1.333 | Accuracy: 89.286% |\n",
      "Epoch: 1/10 | Train loss: 0.105 | Test loss: 0.949 | Accuracy: 76.786% |\n",
      "Epoch: 1/10 | Train loss: 0.079 | Test loss: 0.718 | Accuracy: 85.714% |\n",
      "Epoch: 1/10 | Train loss: 0.065 | Test loss: 0.621 | Accuracy: 87.500% |\n",
      "Epoch: 1/10 | Train loss: 0.057 | Test loss: 0.553 | Accuracy: 92.857% |\n",
      "Epoch: 1/10 | Train loss: 0.056 | Test loss: 0.531 | Accuracy: 89.286% |\n",
      "Epoch: 1/10 | Train loss: 0.047 | Test loss: 0.489 | Accuracy: 94.643% |\n",
      "Epoch: 1/10 | Train loss: 0.046 | Test loss: 0.462 | Accuracy: 91.071% |\n",
      "Epoch: 1/10 | Train loss: 0.041 | Test loss: 0.441 | Accuracy: 87.500% |\n",
      "Epoch: 1/10 | Train loss: 0.046 | Test loss: 0.442 | Accuracy: 89.286% |\n",
      "Epoch: 1/10 | Train loss: 0.042 | Test loss: 0.427 | Accuracy: 78.571% |\n",
      "Epoch: 2/10 | Train loss: 0.042 | Test loss: 0.437 | Accuracy: 85.714% |\n",
      "Epoch: 2/10 | Train loss: 0.043 | Test loss: 0.398 | Accuracy: 89.286% |\n",
      "Epoch: 2/10 | Train loss: 0.038 | Test loss: 0.407 | Accuracy: 82.143% |\n",
      "Epoch: 2/10 | Train loss: 0.038 | Test loss: 0.405 | Accuracy: 92.857% |\n",
      "Epoch: 2/10 | Train loss: 0.037 | Test loss: 0.394 | Accuracy: 89.286% |\n",
      "Epoch: 2/10 | Train loss: 0.041 | Test loss: 0.389 | Accuracy: 91.071% |\n",
      "Epoch: 2/10 | Train loss: 0.037 | Test loss: 0.448 | Accuracy: 55.357% |\n",
      "Epoch: 2/10 | Train loss: 0.039 | Test loss: 0.387 | Accuracy: 89.286% |\n",
      "Epoch: 2/10 | Train loss: 0.039 | Test loss: 0.381 | Accuracy: 87.500% |\n",
      "Epoch: 2/10 | Train loss: 0.038 | Test loss: 0.382 | Accuracy: 83.929% |\n",
      "Epoch: 2/10 | Train loss: 0.038 | Test loss: 0.389 | Accuracy: 82.143% |\n",
      "Epoch: 3/10 | Train loss: 0.038 | Test loss: 0.368 | Accuracy: 89.286% |\n",
      "Epoch: 3/10 | Train loss: 0.034 | Test loss: 0.375 | Accuracy: 92.857% |\n",
      "Epoch: 3/10 | Train loss: 0.035 | Test loss: 0.372 | Accuracy: 96.429% |\n",
      "Epoch: 3/10 | Train loss: 0.038 | Test loss: 0.372 | Accuracy: 91.071% |\n",
      "Epoch: 3/10 | Train loss: 0.034 | Test loss: 0.359 | Accuracy: 85.714% |\n",
      "Epoch: 3/10 | Train loss: 0.039 | Test loss: 0.354 | Accuracy: 96.429% |\n",
      "Epoch: 3/10 | Train loss: 0.036 | Test loss: 0.367 | Accuracy: 87.500% |\n",
      "Epoch: 3/10 | Train loss: 0.037 | Test loss: 0.343 | Accuracy: 83.929% |\n",
      "Epoch: 3/10 | Train loss: 0.039 | Test loss: 0.350 | Accuracy: 91.071% |\n",
      "Epoch: 3/10 | Train loss: 0.037 | Test loss: 0.368 | Accuracy: 87.500% |\n",
      "Epoch: 3/10 | Train loss: 0.039 | Test loss: 0.374 | Accuracy: 85.714% |\n",
      "Epoch: 4/10 | Train loss: 0.034 | Test loss: 0.365 | Accuracy: 89.286% |\n",
      "Epoch: 4/10 | Train loss: 0.036 | Test loss: 0.354 | Accuracy: 89.286% |\n",
      "Epoch: 4/10 | Train loss: 0.034 | Test loss: 0.361 | Accuracy: 82.143% |\n",
      "Epoch: 4/10 | Train loss: 0.035 | Test loss: 0.353 | Accuracy: 92.857% |\n",
      "Epoch: 4/10 | Train loss: 0.036 | Test loss: 0.360 | Accuracy: 92.857% |\n",
      "Epoch: 4/10 | Train loss: 0.034 | Test loss: 0.350 | Accuracy: 92.857% |\n",
      "Epoch: 4/10 | Train loss: 0.036 | Test loss: 0.358 | Accuracy: 91.071% |\n",
      "Epoch: 4/10 | Train loss: 0.034 | Test loss: 0.355 | Accuracy: 91.071% |\n",
      "Epoch: 4/10 | Train loss: 0.038 | Test loss: 0.346 | Accuracy: 92.857% |\n",
      "Epoch: 4/10 | Train loss: 0.036 | Test loss: 0.367 | Accuracy: 89.286% |\n",
      "Epoch: 4/10 | Train loss: 0.038 | Test loss: 0.355 | Accuracy: 91.071% |\n",
      "Epoch: 5/10 | Train loss: 0.038 | Test loss: 0.341 | Accuracy: 89.286% |\n",
      "Epoch: 5/10 | Train loss: 0.032 | Test loss: 0.370 | Accuracy: 92.857% |\n",
      "Epoch: 5/10 | Train loss: 0.040 | Test loss: 0.351 | Accuracy: 91.071% |\n",
      "Epoch: 5/10 | Train loss: 0.036 | Test loss: 0.343 | Accuracy: 85.714% |\n",
      "Epoch: 5/10 | Train loss: 0.031 | Test loss: 0.351 | Accuracy: 83.929% |\n",
      "Epoch: 5/10 | Train loss: 0.039 | Test loss: 0.346 | Accuracy: 89.286% |\n",
      "Epoch: 5/10 | Train loss: 0.035 | Test loss: 0.357 | Accuracy: 91.071% |\n",
      "Epoch: 5/10 | Train loss: 0.033 | Test loss: 0.349 | Accuracy: 92.857% |\n",
      "Epoch: 5/10 | Train loss: 0.034 | Test loss: 0.331 | Accuracy: 91.071% |\n",
      "Epoch: 5/10 | Train loss: 0.035 | Test loss: 0.334 | Accuracy: 87.500% |\n",
      "Epoch: 5/10 | Train loss: 0.038 | Test loss: 0.338 | Accuracy: 87.500% |\n",
      "Epoch: 6/10 | Train loss: 0.034 | Test loss: 0.335 | Accuracy: 87.500% |\n",
      "Epoch: 6/10 | Train loss: 0.035 | Test loss: 0.343 | Accuracy: 87.500% |\n",
      "Epoch: 6/10 | Train loss: 0.035 | Test loss: 0.346 | Accuracy: 85.714% |\n",
      "Epoch: 6/10 | Train loss: 0.037 | Test loss: 0.351 | Accuracy: 91.071% |\n",
      "Epoch: 6/10 | Train loss: 0.033 | Test loss: 0.367 | Accuracy: 89.286% |\n",
      "Epoch: 6/10 | Train loss: 0.033 | Test loss: 0.340 | Accuracy: 85.714% |\n",
      "Epoch: 6/10 | Train loss: 0.033 | Test loss: 0.339 | Accuracy: 85.714% |\n",
      "Epoch: 6/10 | Train loss: 0.033 | Test loss: 0.351 | Accuracy: 87.500% |\n",
      "Epoch: 6/10 | Train loss: 0.034 | Test loss: 0.349 | Accuracy: 85.714% |\n",
      "Epoch: 6/10 | Train loss: 0.034 | Test loss: 0.326 | Accuracy: 91.071% |\n",
      "Epoch: 6/10 | Train loss: 0.035 | Test loss: 0.328 | Accuracy: 91.071% |\n",
      "Epoch: 7/10 | Train loss: 0.035 | Test loss: 0.345 | Accuracy: 83.929% |\n",
      "Epoch: 7/10 | Train loss: 0.038 | Test loss: 0.375 | Accuracy: 94.643% |\n",
      "Epoch: 7/10 | Train loss: 0.031 | Test loss: 0.360 | Accuracy: 89.286% |\n",
      "Epoch: 7/10 | Train loss: 0.034 | Test loss: 0.363 | Accuracy: 89.286% |\n",
      "Epoch: 7/10 | Train loss: 0.032 | Test loss: 0.327 | Accuracy: 91.071% |\n",
      "Epoch: 7/10 | Train loss: 0.035 | Test loss: 0.339 | Accuracy: 87.500% |\n",
      "Epoch: 7/10 | Train loss: 0.037 | Test loss: 0.338 | Accuracy: 83.929% |\n",
      "Epoch: 7/10 | Train loss: 0.032 | Test loss: 0.348 | Accuracy: 89.286% |\n",
      "Epoch: 7/10 | Train loss: 0.030 | Test loss: 0.331 | Accuracy: 87.500% |\n",
      "Epoch: 7/10 | Train loss: 0.035 | Test loss: 0.352 | Accuracy: 91.071% |\n",
      "Epoch: 7/10 | Train loss: 0.044 | Test loss: 0.354 | Accuracy: 76.786% |\n",
      "Epoch: 8/10 | Train loss: 0.039 | Test loss: 0.360 | Accuracy: 82.143% |\n",
      "Epoch: 8/10 | Train loss: 0.036 | Test loss: 0.331 | Accuracy: 89.286% |\n",
      "Epoch: 8/10 | Train loss: 0.035 | Test loss: 0.337 | Accuracy: 91.071% |\n",
      "Epoch: 8/10 | Train loss: 0.031 | Test loss: 0.334 | Accuracy: 87.500% |\n",
      "Epoch: 8/10 | Train loss: 0.035 | Test loss: 0.322 | Accuracy: 94.643% |\n",
      "Epoch: 8/10 | Train loss: 0.034 | Test loss: 0.337 | Accuracy: 92.857% |\n",
      "Epoch: 8/10 | Train loss: 0.032 | Test loss: 0.337 | Accuracy: 94.643% |\n",
      "Epoch: 8/10 | Train loss: 0.033 | Test loss: 0.332 | Accuracy: 89.286% |\n",
      "Epoch: 8/10 | Train loss: 0.036 | Test loss: 0.328 | Accuracy: 83.929% |\n",
      "Epoch: 8/10 | Train loss: 0.035 | Test loss: 0.325 | Accuracy: 91.071% |\n",
      "Epoch: 8/10 | Train loss: 0.030 | Test loss: 0.347 | Accuracy: 91.071% |\n",
      "Epoch: 9/10 | Train loss: 0.033 | Test loss: 0.346 | Accuracy: 94.643% |\n",
      "Epoch: 9/10 | Train loss: 0.034 | Test loss: 0.337 | Accuracy: 78.571% |\n",
      "Epoch: 9/10 | Train loss: 0.032 | Test loss: 0.341 | Accuracy: 78.571% |\n",
      "Epoch: 9/10 | Train loss: 0.035 | Test loss: 0.319 | Accuracy: 91.071% |\n",
      "Epoch: 9/10 | Train loss: 0.035 | Test loss: 0.337 | Accuracy: 92.857% |\n",
      "Epoch: 9/10 | Train loss: 0.034 | Test loss: 0.339 | Accuracy: 94.643% |\n",
      "Epoch: 9/10 | Train loss: 0.035 | Test loss: 0.338 | Accuracy: 91.071% |\n",
      "Epoch: 9/10 | Train loss: 0.035 | Test loss: 0.321 | Accuracy: 89.286% |\n",
      "Epoch: 9/10 | Train loss: 0.031 | Test loss: 0.336 | Accuracy: 87.500% |\n",
      "Epoch: 9/10 | Train loss: 0.034 | Test loss: 0.319 | Accuracy: 91.071% |\n",
      "Epoch: 9/10 | Train loss: 0.033 | Test loss: 0.347 | Accuracy: 96.429% |\n",
      "Epoch: 10/10 | Train loss: 0.032 | Test loss: 0.335 | Accuracy: 85.714% |\n",
      "Epoch: 10/10 | Train loss: 0.035 | Test loss: 0.346 | Accuracy: 91.071% |\n",
      "Epoch: 10/10 | Train loss: 0.032 | Test loss: 0.335 | Accuracy: 94.643% |\n",
      "Epoch: 10/10 | Train loss: 0.032 | Test loss: 0.344 | Accuracy: 92.857% |\n",
      "Epoch: 10/10 | Train loss: 0.033 | Test loss: 0.329 | Accuracy: 91.071% |\n",
      "Epoch: 10/10 | Train loss: 0.031 | Test loss: 0.332 | Accuracy: 94.643% |\n",
      "Epoch: 10/10 | Train loss: 0.032 | Test loss: 0.337 | Accuracy: 85.714% |\n",
      "Epoch: 10/10 | Train loss: 0.035 | Test loss: 0.324 | Accuracy: 82.143% |\n",
      "Epoch: 10/10 | Train loss: 0.035 | Test loss: 0.326 | Accuracy: 91.071% |\n",
      "Epoch: 10/10 | Train loss: 0.032 | Test loss: 0.326 | Accuracy: 87.500% |\n",
      "Epoch: 10/10 | Train loss: 0.035 | Test loss: 0.310 | Accuracy: 91.071% |\n"
     ]
    },
    {
     "ename": "AttributeError",
     "evalue": "'list' object has no attribute 'cpu'",
     "output_type": "error",
     "traceback": [
      "\u001B[1;31m---------------------------------------------------------------------------\u001B[0m",
      "\u001B[1;31mAttributeError\u001B[0m                            Traceback (most recent call last)",
      "\u001B[1;32m~\\AppData\\Local\\Temp/ipykernel_16600/4093604817.py\u001B[0m in \u001B[0;36m<module>\u001B[1;34m\u001B[0m\n\u001B[0;32m     65\u001B[0m             \u001B[0mrunning_test_loss\u001B[0m \u001B[1;33m=\u001B[0m \u001B[1;36m0\u001B[0m\u001B[1;33m\u001B[0m\u001B[1;33m\u001B[0m\u001B[0m\n\u001B[0;32m     66\u001B[0m \u001B[1;33m\u001B[0m\u001B[0m\n\u001B[1;32m---> 67\u001B[1;33m \u001B[0mtest\u001B[0m\u001B[1;33m.\u001B[0m\u001B[0mcpu\u001B[0m\u001B[1;33m(\u001B[0m\u001B[1;33m)\u001B[0m\u001B[1;33m\u001B[0m\u001B[1;33m\u001B[0m\u001B[0m\n\u001B[0m\u001B[0;32m     68\u001B[0m \u001B[0mplt\u001B[0m\u001B[1;33m.\u001B[0m\u001B[0mplot\u001B[0m\u001B[1;33m(\u001B[0m\u001B[0mtest\u001B[0m\u001B[1;33m)\u001B[0m\u001B[1;33m\u001B[0m\u001B[1;33m\u001B[0m\u001B[0m\n",
      "\u001B[1;31mAttributeError\u001B[0m: 'list' object has no attribute 'cpu'"
     ]
    }
   ],
   "source": [
    "epochs = 10\n",
    "print_every = 20\n",
    "\n",
    "train = []\n",
    "test = []\n",
    "\n",
    "for epoch in range(epochs):\n",
    "    steps = 0\n",
    "    running_train_loss = 0\n",
    "    running_test_loss = 0\n",
    "    epoch_acc = []\n",
    "    for inputs, labels in iter(trainloader):\n",
    "\n",
    "\n",
    "        steps += 1\n",
    "\n",
    "        inputs, labels = inputs.to(device), labels.to(device)\n",
    "\n",
    "        optimizer.zero_grad()\n",
    "        train_pred = model.forward(inputs)\n",
    "\n",
    "        loss = criterion(train_pred, labels)\n",
    "        loss.backward()\n",
    "        running_train_loss += loss.item()\n",
    "\n",
    "        optimizer.step()\n",
    "\n",
    "\n",
    "\n",
    "        if steps % print_every == 0:\n",
    "\n",
    "            accuracy = 0\n",
    "            model.eval()\n",
    "\n",
    "            with torch.no_grad():\n",
    "                for inputs, labels in iter(testloader):\n",
    "                    inputs, labels = inputs.to(device), labels.to(device)\n",
    "\n",
    "                    test_pred = model.forward(inputs)\n",
    "                    test_loss = criterion(test_pred, labels)\n",
    "\n",
    "                    running_test_loss += test_loss.item()\n",
    "\n",
    "                    _, pred_class = test_pred.max(1)\n",
    "\n",
    "                    correct = pred_class.eq(labels).sum().item()\n",
    "\n",
    "                    accuracy = 100 * correct / len(testloader)\n",
    "\n",
    "            test.append(running_test_loss/len(testloader))\n",
    "            # load_acc = accuracy / len(testloader)\n",
    "\n",
    "            model.train()\n",
    "\n",
    "        train.append(running_train_loss/len(trainloader))\n",
    "\n",
    "        # if steps % print_every == 0:\n",
    "        #     print(f'Epoch: {epoch+1}/{epochs} | '\n",
    "        #           f'Train loss: {running_train_loss/len(trainloader):.3f} | '\n",
    "        #           f'Test loss: {running_test_loss/len(testloader):.3f} | '\n",
    "        #           f'Accuracy: {accuracy:.3f}% |')\n",
    "\n",
    "        running_train_loss = 0\n",
    "        running_test_loss = 0\n",
    "\n",
    "plt.plot(test)"
   ],
   "metadata": {
    "collapsed": false,
    "pycharm": {
     "name": "#%%\n"
    }
   }
  }
 ],
 "metadata": {
  "kernelspec": {
   "display_name": "Python 3",
   "language": "python",
   "name": "python3"
  },
  "language_info": {
   "codemirror_mode": {
    "name": "ipython",
    "version": 2
   },
   "file_extension": ".py",
   "mimetype": "text/x-python",
   "name": "python",
   "nbconvert_exporter": "python",
   "pygments_lexer": "ipython2",
   "version": "2.7.6"
  }
 },
 "nbformat": 4,
 "nbformat_minor": 0
}