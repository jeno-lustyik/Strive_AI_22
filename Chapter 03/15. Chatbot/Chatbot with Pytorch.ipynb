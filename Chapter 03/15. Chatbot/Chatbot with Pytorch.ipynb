{
 "cells": [
  {
   "cell_type": "code",
   "execution_count": 19,
   "metadata": {},
   "outputs": [
    {
     "name": "stderr",
     "output_type": "stream",
     "text": [
      "[nltk_data] Downloading package punkt to\n",
      "[nltk_data]     C:\\Users\\lusty\\AppData\\Roaming\\nltk_data...\n",
      "[nltk_data]   Package punkt is already up-to-date!\n"
     ]
    },
    {
     "data": {
      "text/plain": "\"\\nChatbots are essential for speeding up user assistance and reducing waiting times. Chatbots can quickly extract important information such as demographics, symptoms, health insurance information and assist any patients by making appointments with specialists.\\n\\nImagine having to design a tool that allows preliminary assistance for those who must access a treatment path or must make a reservation for a specialist visit.\\n\\nCreate a dataset using the template provided as a base and prepare at least 5 different intents with 4/5 responses each.\\n\\nThe final result must ensure that users can have a dialogue of at least 3 questions and 3 answers consistent with the context.\\n\\nExample\\nA: Hello MedAssistant.\\nB: Hello. How can I help you?\\nA: I don't feel well.\\nB: Do you have any symptoms?\\nA: I have cough and nausea.\\nB: Do you want to book an appointment?\\nA: Yes, please, for tomorrow.\\n\\n\\nInfo:\\n- Feel free to change or arrange a new dataset of intents\\n- Try experimenting and tuning with the hyperparameters\\n- Feel free to use or change the code you've seen during the morning session\\n- TBD = To be done (from you!) :)\\n\""
     },
     "execution_count": 19,
     "metadata": {},
     "output_type": "execute_result"
    }
   ],
   "source": [
    "# NLP Lecture @ Strive School - 21st July 2021\n",
    "# CHATBOT with Pytorch\n",
    "import random\n",
    "\n",
    "import nltk\n",
    "nltk.download('punkt')\n",
    "'''\n",
    "Chatbots are essential for speeding up user assistance and reducing waiting times. Chatbots can quickly extract important information such as demographics, symptoms, health insurance information and assist any patients by making appointments with specialists.\n",
    "\n",
    "Imagine having to design a tool that allows preliminary assistance for those who must access a treatment path or must make a reservation for a specialist visit.\n",
    "\n",
    "Create a dataset using the template provided as a base and prepare at least 5 different intents with 4/5 responses each.\n",
    "\n",
    "The final result must ensure that users can have a dialogue of at least 3 questions and 3 answers consistent with the context.\n",
    "\n",
    "Example\n",
    "A: Hello MedAssistant.\n",
    "B: Hello. How can I help you?\n",
    "A: I don't feel well.\n",
    "B: Do you have any symptoms?\n",
    "A: I have cough and nausea.\n",
    "B: Do you want to book an appointment?\n",
    "A: Yes, please, for tomorrow.\n",
    "\n",
    "\n",
    "Info:\n",
    "- Feel free to change or arrange a new dataset of intents\n",
    "- Try experimenting and tuning with the hyperparameters\n",
    "- Feel free to use or change the code you've seen during the morning session\n",
    "- TBD = To be done (from you!) :)\n",
    "'''"
   ]
  },
  {
   "cell_type": "code",
   "execution_count": 20,
   "metadata": {},
   "outputs": [
    {
     "name": "stdout",
     "output_type": "stream",
     "text": [
      "[(['Hi'], 'greeting'), (['Hey'], 'greeting'), (['How', 'are', 'you'], 'greeting'), (['Is', 'anyone', 'there', '?'], 'greeting'), (['Hello'], 'greeting'), (['Good', 'day'], 'greeting'), (['Good', 'evening'], 'greeting'), (['Good', 'night'], 'greeting'), (['Bye'], 'goodbye'), (['See', 'you', 'later'], 'goodbye'), (['Goodbye'], 'goodbye'), (['Thanks'], 'thanks'), (['Thank', 'you'], 'thanks'), (['That', \"'s\", 'helpful'], 'thanks'), (['Thank', \"'s\", 'a', 'lot', '!'], 'thanks'), (['Which', 'hamburgers', 'do', 'you', 'have', '?'], 'food'), (['What', 'kinds', 'of', 'courses', 'are', 'there', '?'], 'food'), (['What', 'do', 'you', 'cook', '?'], 'food'), (['Can', 'I', 'order', 'a', 'coke', '?'], 'food'), (['I', \"'m\", 'hungry'], 'food'), (['We', \"'re\", 'starving'], 'food'), (['I', \"'d\", 'like', 'to', 'have', 'a', 'pizza'], 'food'), (['Do', 'you', 'take', 'credit', 'cards', '?'], 'payments'), (['Do', 'you', 'accept', 'Mastercard', '?'], 'payments'), (['Can', 'I', 'pay', 'with', 'Apple', 'Pay', 'or', 'Paypal', '?'], 'payments'), (['Can', 'I', 'pay', 'with', 'cash', '?'], 'payments'), (['How', 'long', 'does', 'delivery', 'take', '?'], 'delivery'), (['How', 'long', 'does', 'shipping', 'take', '?'], 'delivery'), (['When', 'do', 'I', 'get', 'my', 'delivery', '?'], 'delivery'), (['Tell', 'me', 'a', 'joke', '!'], 'miscellaneous'), (['Tell', 'me', 'something', 'funny', '!'], 'miscellaneous'), (['Let', 'me', 'laugh', '!'], 'miscellaneous')]\n"
     ]
    }
   ],
   "source": [
    "import numpy as np\n",
    "import json\n",
    "\n",
    "import torch\n",
    "import torch.nn as nn\n",
    "from torch.utils.data import Dataset, DataLoader\n",
    "\n",
    "from nltk_utils import bag_of_words, tokenize, stem\n",
    "from model import NeuralNet\n",
    "\n",
    "# STEP 0: find intents patterns\n",
    "\n",
    "with open('intents.json', 'r') as f:\n",
    "    intents = json.load(f)\n",
    "\n",
    "all_words = []\n",
    "tags = []\n",
    "patterns = []\n",
    "\n",
    "for intent in intents['intents']:\n",
    "    tags.append(intent['tag'])\n",
    "    for pattern in intent['patterns']:\n",
    "\n",
    "        # Taking each word and tokenizing them:\n",
    "        w = nltk.word_tokenize(pattern)\n",
    "        all_words.extend(w)\n",
    "        patterns.append((w, intent['tag']))\n",
    "# TBD: loop through each sentence in our intents patterns, create a list of tags and define the patterns\n",
    "\n",
    "print(patterns)"
   ]
  },
  {
   "cell_type": "code",
   "execution_count": 21,
   "metadata": {},
   "outputs": [
    {
     "name": "stdout",
     "output_type": "stream",
     "text": [
      "70\n"
     ]
    }
   ],
   "source": [
    "# STEP 1: Pre-process of the input\n",
    "\n",
    "# lower case? stemming? stopwords?\n",
    "# TBD\n",
    "stop_words = ['?', '!', '.']\n",
    "all_words = [stem(w) for w in all_words if w not in stop_words]\n",
    "all_words = sorted(set(all_words))\n",
    "\n",
    "print(len(all_words))"
   ]
  },
  {
   "cell_type": "code",
   "execution_count": 22,
   "metadata": {},
   "outputs": [],
   "source": [
    "# STEP 2: Define training data through a bag of words\n",
    "\n",
    "X_train = []\n",
    "y_train = []\n",
    "for (pattern_sentence, tag) in patterns:\n",
    "    bag = bag_of_words(pattern_sentence, all_words)\n",
    "    X_train.append(bag)\n",
    "    label = tags.index(tag)\n",
    "    y_train.append(label)\n",
    "\n",
    "X_train = np.array(X_train)\n",
    "y_train = np.array(y_train)"
   ]
  },
  {
   "cell_type": "code",
   "execution_count": 23,
   "metadata": {},
   "outputs": [],
   "source": [
    "# STEP 3: Configure the neural network\n",
    "\n",
    "# define each parameter that is equal to 0 using an empirical value or a value based on your experience\n",
    "# TBD\n",
    "\n",
    "num_epochs = 1000\n",
    "batch_size = 32\n",
    "learning_rate = 0.003\n",
    "input_size = len(X_train[0])\n",
    "hidden_size = 8\n",
    "output_size = len(tags)\n",
    "\n",
    "# STEP 4: Train the model\n",
    "\n",
    "class ChatDataset(Dataset):\n",
    "\n",
    "    def __init__(self):\n",
    "        self.n_samples = len(X_train)\n",
    "        self.x_data = X_train\n",
    "        self.y_data = y_train\n",
    "\n",
    "    # support indexing such that dataset[i] can be used to get i-th sample\n",
    "    def __getitem__(self, index):\n",
    "        return self.x_data[index], self.y_data[index]\n",
    "\n",
    "    # we can call len(dataset) to return the size\n",
    "    def __len__(self):\n",
    "        return self.n_samples\n",
    "\n",
    "dataset = ChatDataset()\n",
    "train_loader = DataLoader(dataset=dataset,\n",
    "                          batch_size=batch_size,\n",
    "                          shuffle=True,\n",
    "                          num_workers=0)\n",
    "\n",
    "device = torch.device('cuda' if torch.cuda.is_available() else 'cpu')\n",
    "\n",
    "model = NeuralNet(input_size, hidden_size, output_size).to(device)\n",
    "\n",
    "# Define loss and optimizer: which one is the best one?\n",
    "# TBD\n",
    "criterion = nn.CrossEntropyLoss()\n",
    "optimizer = torch.optim.Adam(model.parameters(), lr=learning_rate)\n",
    "\n",
    "# Train the model\n",
    "for epoch in range(num_epochs):\n",
    "    for (words, labels) in train_loader:\n",
    "        words = words.to(device)\n",
    "        labels = labels.to(dtype=torch.long).to(device)\n",
    "\n",
    "        # Forward pass\n",
    "        outputs = model(words)\n",
    "        # if y would be one-hot, we must apply\n",
    "        # labels = torch.max(labels, 1)[1]\n",
    "        loss = criterion(outputs, labels)\n",
    "\n",
    "        # Backward and optimize\n",
    "        optimizer.zero_grad()\n",
    "        loss.backward()\n",
    "        optimizer.step()\n",
    "\n",
    "\n",
    "data = {\n",
    "    \"model_state\": model.state_dict(),\n",
    "    \"input_size\": input_size,\n",
    "    \"hidden_size\": hidden_size,\n",
    "    \"output_size\": output_size,\n",
    "    \"all_words\": all_words,\n",
    "    \"tags\": tags\n",
    "}"
   ]
  },
  {
   "cell_type": "code",
   "execution_count": 24,
   "metadata": {},
   "outputs": [],
   "source": [
    "# STEP 5: Save the model\n",
    "\n",
    "# TBD: name and save the model\n",
    "file = 'trained.pth'\n",
    "torch.save(data, file)"
   ]
  },
  {
   "cell_type": "code",
   "execution_count": 26,
   "metadata": {},
   "outputs": [
    {
     "name": "stdout",
     "output_type": "stream",
     "text": [
      "Let's chat! \n",
      " If you'd like to finish chatting, type 'exit'.\n",
      "tensor(0.9988, device='cuda:0', grad_fn=<SelectBackward0>)\n",
      "Based-Bot: Hello, thanks for visiting\n",
      "tensor(0.9991, device='cuda:0', grad_fn=<SelectBackward0>)\n",
      "Based-Bot: We sell pizza, hamburgers and tacos\n",
      "tensor(0.4711, device='cuda:0', grad_fn=<SelectBackward0>)\n",
      "Based-Bot: I do not understand, try to be less cringe.\n",
      "Thanks for chatting!\n"
     ]
    }
   ],
   "source": [
    "# STEP 6: Test the model\n",
    "\n",
    "device = torch.device('cuda' if torch.cuda.is_available() else 'cpu')\n",
    "\n",
    "# TBD: Load the intents file\n",
    "\n",
    "data = torch.load('trained.pth')\n",
    "\n",
    "# TBD: Retrieve the model and all the sizings\n",
    "\n",
    "model_state = data['model_state']\n",
    "input_size = data['input_size']\n",
    "hidden_size = data['hidden_size']\n",
    "output_size = data['output_size']\n",
    "all_words = data['all_words']\n",
    "tags = data['tags']\n",
    "\n",
    "# TBD: build the NN\n",
    "\n",
    "model = NeuralNet(input_size, hidden_size, output_size).to(device)\n",
    "model.load_state_dict(model_state)\n",
    "model.eval()\n",
    "\n",
    "# TBD: prepare a command-line conversation (don't forget something to make the user exit the script!)\n",
    "bot_name = 'Based-Bot'\n",
    "print(\"Let's chat! \\n If you'd like to finish chatting, type 'exit'.\")\n",
    "\n",
    "while True:\n",
    "    sentence = input('You :')\n",
    "    if sentence == 'exit':\n",
    "        print('Thanks for chatting!')\n",
    "        break\n",
    "\n",
    "    sentence = tokenize(sentence)\n",
    "    X = bag_of_words(sentence, all_words)\n",
    "    X = X.reshape(1, X.shape[0])\n",
    "    X = torch.from_numpy(X).to(device)\n",
    "\n",
    "    output = model(X)\n",
    "    _, predicted = torch.max(output, dim=1)\n",
    "\n",
    "    tag = tags[predicted.item()]\n",
    "    probs = torch.softmax(output, dim=1)\n",
    "    prob = probs[0][predicted.item()]\n",
    "    print(prob)\n",
    "    if prob.item()  > 0.75:\n",
    "        for intent in intents['intents']:\n",
    "            if tag == intent['tag']:\n",
    "                print(f\"{bot_name}: {random.choice(intent['responses'])}\")\n",
    "    else:\n",
    "        print(f\"{bot_name}: I do not understand, try to be less cringe.\")"
   ]
  }
 ],
 "metadata": {
  "kernelspec": {
   "display_name": "Python 3",
   "language": "python",
   "name": "python3"
  },
  "language_info": {
   "codemirror_mode": {
    "name": "ipython",
    "version": 3
   },
   "file_extension": ".py",
   "mimetype": "text/x-python",
   "name": "python",
   "nbconvert_exporter": "python",
   "pygments_lexer": "ipython3",
   "version": "3.9.2"
  }
 },
 "nbformat": 4,
 "nbformat_minor": 2
}